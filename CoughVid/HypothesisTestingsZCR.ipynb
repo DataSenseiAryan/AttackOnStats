{
 "cells": [
  {
   "cell_type": "code",
   "execution_count": 1,
   "metadata": {},
   "outputs": [],
   "source": [
    "import pandas as pd\n",
    "import numpy as np\n",
    "import datetime\n",
    "import librosa\n",
    "import matplotlib.pyplot as plt\n",
    "import seaborn as sns\n",
    "import os\n",
    "import pathlib\n",
    "import dask.dataframe as dd\n",
    "from dask.multiprocessing import get\n",
    "import numpy as np\n",
    "import librosa\n",
    "from scipy import signal\n",
    "from scipy.io import wavfile\n",
    "from scipy.signal import butter,filtfilt\n",
    "from scipy.stats import kurtosis\n",
    "import scipy.signal as signal\n",
    "from scipy.integrate import simps\n"
   ]
  },
  {
   "cell_type": "code",
   "execution_count": 2,
   "metadata": {},
   "outputs": [],
   "source": [
    "df = pd.read_csv('/home/abrol/ARYAN_MT22019/CoughVid/public_dataset/metadata_compiled.csv')"
   ]
  },
  {
   "cell_type": "code",
   "execution_count": 3,
   "metadata": {},
   "outputs": [
    {
     "name": "stdout",
     "output_type": "stream",
     "text": [
      "Number of audio samples in the dataset: 19213\n"
     ]
    }
   ],
   "source": [
    "path = '/home/abrol/ARYAN_MT22019/CoughVid/public_dataset/'\n",
    "dataset_directory = '/home/abrol/ARYAN_MT22019/CoughVid/public_dataset/'\n",
    "audio_files = [os.path.join(dataset_directory, file) for file in os.listdir(dataset_directory) if file.endswith('.webm')]\n",
    "num_audio_samples = len(audio_files)\n",
    "print(\"Number of audio samples in the dataset:\", num_audio_samples)"
   ]
  },
  {
   "cell_type": "code",
   "execution_count": 4,
   "metadata": {},
   "outputs": [],
   "source": [
    "# # load audio function \n",
    "# def load_audio(x, path = '/home/abrol/ARYAN_MT22019/CoughVid/public_dataset/'):\n",
    "#     try:\n",
    "#          audio, sr = librosa.load(os.path.join(path, x+\".webm\"))\n",
    "#          return audio\n",
    "#     except:\n",
    "#          return \"error\"\n",
    "# ddf = dd.from_pandas(df['uuid'], npartitions=250) "
   ]
  },
  {
   "cell_type": "code",
   "execution_count": 5,
   "metadata": {},
   "outputs": [],
   "source": [
    "# ddf_audio = ddf.apply(load_audio).compute()"
   ]
  },
  {
   "cell_type": "code",
   "execution_count": 6,
   "metadata": {},
   "outputs": [],
   "source": [
    "#  ddf_audio.rename('wave', inplace=True)\n",
    "# result = pd.concat([df, ddf_audio], axis=1)\n",
    "# result['uuid'] #.head()\n",
    "# result.head()"
   ]
  },
  {
   "cell_type": "code",
   "execution_count": null,
   "metadata": {},
   "outputs": [],
   "source": []
  },
  {
   "cell_type": "code",
   "execution_count": 7,
   "metadata": {},
   "outputs": [],
   "source": [
    "# import numpy as np\n",
    "# import librosa\n",
    "# from scipy import signal\n",
    "# from scipy.io import wavfile\n",
    "# from scipy.signal import butter,filtfilt\n",
    "# from scipy.stats import kurtosis\n",
    "# import scipy.signal as signal\n",
    "# from scipy.integrate import simps\n",
    "\n",
    "# class features:\n",
    "#     # output should be  a np.array \n",
    "#     # names should be a list of the size of output\n",
    "#     # add the number of features in output of each function\n",
    "#     n_std_dev = 1\n",
    "#     n_dummy = 2\n",
    "#     n_EEPD = 19\n",
    "#     n_PRE = 1\n",
    "#     n_ZCR = 1\n",
    "#     n_RMSP = 1\n",
    "#     n_DF = 1\n",
    "#     n_spectral_features = 6\n",
    "#     n_SF_SSTD = 2\n",
    "#     n_MFCC = 26\n",
    "#     n_CF = 1\n",
    "#     n_LGTH = 1\n",
    "#     n_SSL_SD = 2\n",
    "    \n",
    "#     def __init__(self, FREQ_CUTS):\n",
    "#         self.FREQ_CUTS = FREQ_CUTS # list of Frequency Bands for the PSD\n",
    "#         self.n_PSD = len(FREQ_CUTS)\n",
    "        \n",
    "#     def std_dev(self, data):\n",
    "#         # data: wav file of segment; fs, signal = wavfile.read(file)\n",
    "#         # output: value of the feature\n",
    "#         names = ['std_dev'] # list of output features  \n",
    "#         std_deviation = np.ones((1,1))*np.std(data[1])\n",
    "#         return std_deviation, names\n",
    "    \n",
    "#     def dummy(self, data):\n",
    "#         # data: wav file of segment; fs, signal = wavfile.read(file)\n",
    "#         # output: value of the feature (MUST BE AN ARRAY)\n",
    "#         names = ['dummy_feature_2','dummy_3']\n",
    "#         return np.array([1.,2.]), names\n",
    "    \n",
    "#     def fft(self,data):\n",
    "#         \"\"\"\n",
    "#         Compute the spectrum using FFT\n",
    "#         \"\"\"\n",
    "#         fs, cough = data\n",
    "#         fftdata = np.fft.rfft(cough)\n",
    "#         return fftdata\n",
    "    \n",
    "#     # Envelope Energy Peak Detection\n",
    "#     def EEPD(self, data):\n",
    "#         # data: wav file of segment; fs, signal = wavfile.read(file)\n",
    "#         # output: value of the feature\n",
    "#         names = []\n",
    "#         fs,cough = data\n",
    "#         fNyq = fs/2\n",
    "#         nPeaks = []\n",
    "#         freq_step = 50\n",
    "#         for fcl in range(50,1000,freq_step):\n",
    "#             names = names + ['EEPD'+str(fcl)+'_'+str(fcl+freq_step)]\n",
    "#             fc = [fcl/fNyq, (fcl+50)/fNyq]\n",
    "#             b, a = butter(1, fc, btype='bandpass')\n",
    "#             bpFilt = filtfilt(b, a, cough)\n",
    "#             b,a = butter(2, 10/fNyq, btype='lowpass')\n",
    "#             eed = filtfilt(b, a, bpFilt**2)\n",
    "#             eed = eed/np.max(eed+1e-17)\n",
    "#             peaks,_ = signal.find_peaks(eed)\n",
    "#             nPeaks.append(peaks.shape[0])\n",
    "#         return np.array(nPeaks), names\n",
    "\n",
    "#     # Phase Power Ratio Estimation\n",
    "#     def PRE(self, data):\n",
    "#         # data: wav file of segment; fs, signal = wavfile.read(file)\n",
    "#         # output: value of the feature\n",
    "#         names = ['Power_Ratio_Est']\n",
    "#         fs,cough = data\n",
    "#         phaseLen = int(cough.shape[0]//3)\n",
    "#         P1 = cough[:phaseLen]\n",
    "#         P2 = cough[phaseLen:2*phaseLen]\n",
    "#         P3 = cough[2*phaseLen:]\n",
    "#         f = np.fft.fftfreq(phaseLen, 1/fs)\n",
    "#         P1 = np.abs(np.fft.fft(P1)[:phaseLen])\n",
    "#         P2 = np.abs(np.fft.fft(P2)[:phaseLen])\n",
    "#         P3 = np.abs(np.fft.fft(P3)[:phaseLen])\n",
    "#         P2norm = P2/(np.sum(P1)+1e-17)\n",
    "#         fBin = fs/(2*phaseLen +1e-17)\n",
    "#         f750,f1k,f2k5 = int(-(-750//fBin)), int(-(-1000//fBin)), int(-(-2500//fBin))\n",
    "#         ratio =  np.sum(P2norm[f1k:f2k5]) / np.sum(P2norm[:f750])\n",
    "#         return np.ones((1,1))*ratio, names\n",
    "    \n",
    "#     # Zero Crossing Rate\n",
    "#     def ZCR(self, data):\n",
    "#         # data: wav file of segment; fs, signal = wavfile.read(file)\n",
    "#         # output: value of the feature\n",
    "#         names = ['Zero_Crossing_Rate']\n",
    "#         fs,cough = data\n",
    "#         ZCR = (np.sum(np.multiply(cough[0:-1],cough[1:])<0)/(len(cough)-1))\n",
    "#         return np.ones((1,1))*ZCR, names\n",
    "    \n",
    "#     # RMS Power\n",
    "#     def RMSP(self, data):\n",
    "#         # data: wav file of segment; fs, signal = wavfile.read(file)\n",
    "#         # output: value of the feature\n",
    "#         names = ['RMS_Power']\n",
    "#         fs,cough = data\n",
    "#         RMS = np.sqrt(np.mean(np.square(cough)))\n",
    "#         return np.ones((1,1))*RMS, names\n",
    "    \n",
    "#     # Dominant Frequency\n",
    "#     def DF(self, data):\n",
    "#         # data: wav file of segment; fs, signal = wavfile.read(file)\n",
    "#         # output: value of the feature\n",
    "#         names = ['Dominant_Freq']\n",
    "#         fs,cough = data\n",
    "#         cough_fortan = np.asfortranarray(cough)\n",
    "#         freqs, psd = signal.welch(cough_fortan)\n",
    "#         DF = freqs[np.argmax(psd)]\n",
    "#         return  np.ones((1,1))*DF, names\n",
    "    \n",
    "#     def spectral_features(self, data):\n",
    "#         names = [\"Spectral_Centroid\",\"Spectral_Rolloff\",\"Spectral_Spread\",\"Spectral_Skewness\",\"Spectral_Kurtosis\",\"Spectral_Bandwidth\"]\n",
    "#         fs, x = data\n",
    "#         magnitudes = np.abs(np.fft.rfft(x)) # magnitudes of positive frequencies\n",
    "#         length = len(x)\n",
    "#         freqs = np.abs(np.fft.fftfreq(length, 1.0/fs)[:length//2+1]) # positive frequencies\n",
    "#         sum_mag = np.sum(magnitudes)\n",
    "        \n",
    "#         # spectral centroid = weighted mean of frequencies wrt FFT value at each frequency\n",
    "#         spec_centroid = np.sum(magnitudes*freqs) / sum_mag\n",
    "\n",
    "#         #spectral roloff = frequency below which 95% of signal energy lies\n",
    "#         cumsum_mag = np.cumsum(magnitudes)\n",
    "#         spec_rolloff = np.min(np.where(cumsum_mag >= 0.95*sum_mag)[0]) \n",
    "\n",
    "#         #spectral spread = weighted standard deviation of frequencies wrt FFT value\n",
    "#         spec_spread = np.sqrt(np.sum(((freqs-spec_centroid)**2)*magnitudes) / sum_mag)\n",
    "\n",
    "#         #spectral skewness = distribution of the spectrum around its mean\n",
    "#         spec_skewness = np.sum(((freqs-spec_centroid)**3)*magnitudes) / ((spec_spread**3)*sum_mag)\n",
    "\n",
    "#         #spectral kurtosis = flatness of spectrum around its mean\n",
    "#         spec_kurtosis =  np.sum(((freqs-spec_centroid)**4)*magnitudes) / ((spec_spread**4)*sum_mag)\n",
    "\n",
    "#         #spectral bandwidth = weighted spectral standard deviation\n",
    "#         p=2\n",
    "#         spec_bandwidth = (np.sum(magnitudes*(freqs-spec_centroid)**p))**(1/p)\n",
    "\n",
    "#         return np.array([spec_centroid, spec_rolloff, spec_spread, spec_skewness, spec_kurtosis, spec_bandwidth]), names\n",
    "    \n",
    "#     # Spectral Flatness and spectral standard deviation\n",
    "#     def SF_SSTD(self, data):\n",
    "#         # data: wav file of segment; fs, signal = wavfile.read(file)\n",
    "#         # output: value of the feature\n",
    "#         names = ['Spectral_Flatness', 'Spectral_StDev']\n",
    "#         fs,sig = data\n",
    "#         nperseg = min(900,len(sig))\n",
    "#         noverlap = min(600,int(nperseg/2))\n",
    "#         freqs, psd = signal.welch(sig, fs, nperseg=nperseg, noverlap=noverlap)\n",
    "#         psd_len = len(psd)\n",
    "#         gmean = np.exp((1/psd_len)*np.sum(np.log(psd + 1e-17)))\n",
    "#         amean = (1/psd_len)*np.sum(psd)\n",
    "#         SF = gmean/amean\n",
    "#         SSTD = np.std(psd)\n",
    "#         return np.array([SF, SSTD]), names\n",
    "        \n",
    "#     #Spectral Slope and Spectral Decrease\n",
    "#     def SSL_SD(self,data):\n",
    "#         names=['Spectral_Slope','Spectral_Decrease']\n",
    "#         b1=0\n",
    "#         b2=8000\n",
    "        \n",
    "#         Fs, x = data\n",
    "#         s = np.absolute(np.fft.fft(x))\n",
    "#         s = s[:s.shape[0]//2]\n",
    "#         muS = np.mean(s)\n",
    "#         f = np.linspace(0,Fs/2,s.shape[0])\n",
    "#         muF = np.mean(f)\n",
    "\n",
    "#         bidx = np.where(np.logical_and(b1 <= f, f <= b2))\n",
    "#         slope = np.sum(((f-muF)*(s-muS))[bidx]) / np.sum((f[bidx]-muF)**2)\n",
    "\n",
    "#         k = bidx[0][1:]\n",
    "#         sb1 = s[bidx[0][0]]\n",
    "#         decrease = np.sum((s[k]-sb1)/(f[k]-1+1e-17)) / (np.sum(s[k]) + 1e-17)\n",
    "\n",
    "#         return np.array([slope, decrease]), names\n",
    "    \n",
    "#     #MFCC\n",
    "#     def MFCC(self,data):\n",
    "#         # data: wav file of segment; fs, signal = wavfile.read(file)\n",
    "#         # output: value of MFCC coefficient\n",
    "#         names = []; names_mean = []; names_std = []\n",
    "#         fs, cough = data\n",
    "#         n_mfcc = 13\n",
    "#         for i in range(n_mfcc):\n",
    "#             names_mean = names_mean + ['MFCC_mean'+str(i)]\n",
    "#             names_std = names_std +  ['MFCC_std'+str(i)]\n",
    "#         names = names_mean + names_std\n",
    "#         mfcc = librosa.feature.mfcc(y = cough, sr = fs, n_mfcc = n_mfcc)\n",
    "#         mfcc_mean = mfcc.mean(axis=1)\n",
    "#         mfcc_std = mfcc.std(axis=1)\n",
    "#         mfcc = np.append(mfcc_mean,mfcc_std)\n",
    "#         return mfcc, names\n",
    "    \n",
    "#     # Crest Factor\n",
    "#     def CF(self,data):\n",
    "#         \"\"\"\n",
    "#         Compute the crest factor of the signal\n",
    "#         \"\"\"\n",
    "#         fs, cough = data\n",
    "#         peak = np.amax(np.absolute(cough))\n",
    "#         RMS = np.sqrt(np.mean(np.square(cough)))\n",
    "#         return np.ones((1,1))*peak/RMS, ['Crest_Factor']\n",
    "    \n",
    "#     def LGTH(self,data):\n",
    "#         \"Compute the length of the segment in seconds\"\n",
    "#         fs, cough = data\n",
    "#         return np.ones((1,1))*(len(cough)/fs), ['Cough_Length']\n",
    "    \n",
    "#     # Power spectral Density \n",
    "#     def PSD(self,data):\n",
    "#         feat = []\n",
    "#         fs,sig = data\n",
    "#         nperseg = min(900,len(sig))\n",
    "#         noverlap=min(600,int(nperseg/2))\n",
    "#         freqs, psd = signal.welch(sig, fs, nperseg=nperseg, noverlap=noverlap)\n",
    "#         dx_freq = freqs[1]-freqs[0]\n",
    "#         total_power = simps(psd, dx=dx_freq)\n",
    "#         for lf, hf in self.FREQ_CUTS:\n",
    "#             idx_band = np.logical_and(freqs >= lf, freqs <= hf)\n",
    "#             band_power = simps(psd[idx_band], dx=dx_freq)\n",
    "#             feat.append(band_power/total_power)\n",
    "#         feat = np.array(feat)\n",
    "#         feat_names = [f'PSD_{lf}-{hf}' for lf, hf in self.FREQ_CUTS]\n",
    "#         return feat, feat_names\n",
    "    "
   ]
  },
  {
   "cell_type": "code",
   "execution_count": 8,
   "metadata": {},
   "outputs": [],
   "source": [
    "# def __preprocess_cough(self, x, fs, cutoff = 6000, normalize = True, filter_ = True, downsample = True):\n",
    "#         \"\"\"\n",
    "#         Normalize, lowpass filter, and downsample cough samples in a given data folder \n",
    "        \n",
    "#         Inputs: x*: (float array) time series cough signal\n",
    "#         fs*: (int) sampling frequency of the cough signal in Hz\n",
    "#         cutoff: (int) cutoff frequency of lowpass filter\n",
    "#         normalize: (bool) normailzation on or off\n",
    "#         filter: (bool) filtering on or off\n",
    "#         downsample: (bool) downsampling on or off\n",
    "#         *: mandatory input\n",
    "        \n",
    "#         Outputs: x: (float32 array) new preprocessed cough signal\n",
    "#         fs: (int) new sampling frequency\n",
    "#         \"\"\"\n",
    "        \n",
    "#         fs_downsample = cutoff*2\n",
    "        \n",
    "#         #Preprocess Data\n",
    "#         if len(x.shape)>1:\n",
    "#             x = np.mean(x,axis=1)                          # Convert to mono\n",
    "#         if normalize:\n",
    "#             x = x/(np.max(np.abs(x))+1e-17)                # Norm to range between -1 to 1\n",
    "#         if filter_:\n",
    "#             b, a = butter(4, fs_downsample/fs, btype='lowpass') # 4th order butter lowpass filter\n",
    "#             x = filtfilt(b, a, x)\n",
    "#         if downsample:\n",
    "#             x = signal.decimate(x, int(fs/fs_downsample)) # Downsample for anti-aliasing\n",
    "        \n",
    "#         fs_new = fs_downsample\n",
    "#         return np.float32(x), fs_new"
   ]
  },
  {
   "cell_type": "code",
   "execution_count": 9,
   "metadata": {},
   "outputs": [],
   "source": [
    "# def extract_features(x):\n",
    "#         \"\"\"Feature extraction for determining if a sound is a cough or not\n",
    "#         Inputs: \n",
    "#             x: (float array) raw cough signal\n",
    "#             fs: (int) sampling rate of raw signal\n",
    "#         Outputs:\n",
    "#             result: (np.array) extracted features\n",
    "#         \"\"\"\n",
    "#         fs = 16000\n",
    "#         try: \n",
    "#             x,fs = __preprocess_cough(x,fs)\n",
    "#             data = (fs,x)\n",
    "#             FREQ_CUTS = [(0,200),(300,425),(500,650),(950,1150),(1400,1800),(2300,2400),(2850,2950),(3800,3900)]\n",
    "#             features_fct_list = ['EEPD','ZCR','RMSP','DF','spectral_features','SF_SSTD','SSL_SD','MFCC','CF','LGTH','PSD']\n",
    "#             feature_values_vec = []\n",
    "#             obj = features(FREQ_CUTS)\n",
    "#             for feature in features_fct_list:\n",
    "#                 feature_values, feature_names = getattr(obj,feature)(data)\n",
    "#                 for value  in feature_values:\n",
    "#                     if isinstance(value,np.ndarray):\n",
    "#                         feature_values_vec.append(value[0])\n",
    "#                     else:\n",
    "#                         feature_values_vec.append(value)\n",
    "#             return np.array(feature_values_vec).reshape(1,-1)\n",
    "\n",
    "#         except:\n",
    "#             print('Error extracting cough detection audio features.')\n",
    "#             return 0\n",
    "\n",
    "    "
   ]
  },
  {
   "cell_type": "code",
   "execution_count": 10,
   "metadata": {},
   "outputs": [],
   "source": [
    "# ddfw = dd.from_pandas(result['wave'], npartitions=250) "
   ]
  },
  {
   "cell_type": "code",
   "execution_count": 11,
   "metadata": {},
   "outputs": [],
   "source": [
    "# ddfw"
   ]
  },
  {
   "cell_type": "code",
   "execution_count": 12,
   "metadata": {},
   "outputs": [],
   "source": [
    "# x,fs= librosa.load('/home/abrol/ARYAN_MT22019/CoughVid/public_dataset/fffce9f0-a5e8-4bee-b13b-c671aac4a61c.webm')\n"
   ]
  },
  {
   "cell_type": "code",
   "execution_count": null,
   "metadata": {},
   "outputs": [],
   "source": [
    "# def load_audio(x, path = '/home/abrol/ARYAN_MT22019/CoughVid/public_dataset/'):\n",
    "#     try:\n",
    "#          audio, sr = librosa.load(os.path.join(path, x+\".webm\"))\n",
    "#          return audio\n",
    "#     except:\n",
    "#          return \"error\""
   ]
  },
  {
   "cell_type": "code",
   "execution_count": null,
   "metadata": {},
   "outputs": [],
   "source": [
    "# def calculate_zcr(x):\n",
    "#     # Count zero crossings\n",
    "#     audio = load_audio(x)\n",
    "#     if audio ==\"error\":\n",
    "#         return np.NaN\n",
    "#     else:\n",
    "#         zero_crossings = librosa.zero_crossings(audio, pad=False)\n",
    "#         zcr = sum(zero_crossings)\n",
    "#         return zcr"
   ]
  },
  {
   "cell_type": "code",
   "execution_count": null,
   "metadata": {},
   "outputs": [],
   "source": [
    "# result.head()"
   ]
  },
  {
   "cell_type": "code",
   "execution_count": null,
   "metadata": {},
   "outputs": [],
   "source": [
    "# ddf = dd.from_pandas(df['uuid'], npartitions=1000) "
   ]
  },
  {
   "cell_type": "code",
   "execution_count": null,
   "metadata": {},
   "outputs": [],
   "source": [
    "# ddf_zcr = ddf.apply(calculate_zcr).compute()"
   ]
  },
  {
   "cell_type": "code",
   "execution_count": null,
   "metadata": {},
   "outputs": [],
   "source": [
    "# ddf_zcr.rename('ZCR', inplace=True)\n",
    "# result = pd.concat([df, ddf_zcr], axis=1)\n",
    "# result.head()"
   ]
  },
  {
   "cell_type": "code",
   "execution_count": null,
   "metadata": {},
   "outputs": [],
   "source": []
  },
  {
   "cell_type": "code",
   "execution_count": 4,
   "metadata": {},
   "outputs": [],
   "source": [
    "result = pd.read_csv('zcr.csv')"
   ]
  },
  {
   "cell_type": "code",
   "execution_count": 5,
   "metadata": {},
   "outputs": [
    {
     "data": {
      "text/html": [
       "<div>\n",
       "<style scoped>\n",
       "    .dataframe tbody tr th:only-of-type {\n",
       "        vertical-align: middle;\n",
       "    }\n",
       "\n",
       "    .dataframe tbody tr th {\n",
       "        vertical-align: top;\n",
       "    }\n",
       "\n",
       "    .dataframe thead th {\n",
       "        text-align: right;\n",
       "    }\n",
       "</style>\n",
       "<table border=\"1\" class=\"dataframe\">\n",
       "  <thead>\n",
       "    <tr style=\"text-align: right;\">\n",
       "      <th></th>\n",
       "      <th>Unnamed: 0</th>\n",
       "      <th>uuid</th>\n",
       "      <th>datetime</th>\n",
       "      <th>cough_detected</th>\n",
       "      <th>latitude</th>\n",
       "      <th>longitude</th>\n",
       "      <th>age</th>\n",
       "      <th>gender</th>\n",
       "      <th>respiratory_condition</th>\n",
       "      <th>fever_muscle_pain</th>\n",
       "      <th>...</th>\n",
       "      <th>dyspnea_3</th>\n",
       "      <th>wheezing_3</th>\n",
       "      <th>stridor_3</th>\n",
       "      <th>choking_3</th>\n",
       "      <th>congestion_3</th>\n",
       "      <th>nothing_3</th>\n",
       "      <th>cough_type_3</th>\n",
       "      <th>diagnosis_3</th>\n",
       "      <th>severity_3</th>\n",
       "      <th>ZCR</th>\n",
       "    </tr>\n",
       "  </thead>\n",
       "  <tbody>\n",
       "    <tr>\n",
       "      <th>0</th>\n",
       "      <td>0</td>\n",
       "      <td>00039425-7f3a-42aa-ac13-834aaa2b6b92</td>\n",
       "      <td>2020-04-13T21:30:59.801831+00:00</td>\n",
       "      <td>0.9609</td>\n",
       "      <td>31.3</td>\n",
       "      <td>34.8</td>\n",
       "      <td>15.0</td>\n",
       "      <td>male</td>\n",
       "      <td>False</td>\n",
       "      <td>False</td>\n",
       "      <td>...</td>\n",
       "      <td>NaN</td>\n",
       "      <td>NaN</td>\n",
       "      <td>NaN</td>\n",
       "      <td>NaN</td>\n",
       "      <td>NaN</td>\n",
       "      <td>NaN</td>\n",
       "      <td>NaN</td>\n",
       "      <td>NaN</td>\n",
       "      <td>NaN</td>\n",
       "      <td>6898.0</td>\n",
       "    </tr>\n",
       "    <tr>\n",
       "      <th>1</th>\n",
       "      <td>1</td>\n",
       "      <td>0009eb28-d8be-4dc1-92bb-907e53bc5c7a</td>\n",
       "      <td>2020-04-12T04:02:18.159383+00:00</td>\n",
       "      <td>0.9301</td>\n",
       "      <td>40.0</td>\n",
       "      <td>-75.1</td>\n",
       "      <td>34.0</td>\n",
       "      <td>male</td>\n",
       "      <td>True</td>\n",
       "      <td>False</td>\n",
       "      <td>...</td>\n",
       "      <td>NaN</td>\n",
       "      <td>NaN</td>\n",
       "      <td>NaN</td>\n",
       "      <td>NaN</td>\n",
       "      <td>NaN</td>\n",
       "      <td>NaN</td>\n",
       "      <td>NaN</td>\n",
       "      <td>NaN</td>\n",
       "      <td>NaN</td>\n",
       "      <td>9075.0</td>\n",
       "    </tr>\n",
       "    <tr>\n",
       "      <th>2</th>\n",
       "      <td>2</td>\n",
       "      <td>0012c608-33d0-4ef7-bde3-75a0b1a0024e</td>\n",
       "      <td>2020-04-15T01:03:59.029326+00:00</td>\n",
       "      <td>0.0482</td>\n",
       "      <td>-16.5</td>\n",
       "      <td>-71.5</td>\n",
       "      <td>NaN</td>\n",
       "      <td>NaN</td>\n",
       "      <td>NaN</td>\n",
       "      <td>NaN</td>\n",
       "      <td>...</td>\n",
       "      <td>NaN</td>\n",
       "      <td>NaN</td>\n",
       "      <td>NaN</td>\n",
       "      <td>NaN</td>\n",
       "      <td>NaN</td>\n",
       "      <td>NaN</td>\n",
       "      <td>NaN</td>\n",
       "      <td>NaN</td>\n",
       "      <td>NaN</td>\n",
       "      <td>164.0</td>\n",
       "    </tr>\n",
       "    <tr>\n",
       "      <th>3</th>\n",
       "      <td>3</td>\n",
       "      <td>001328dc-ea5d-4847-9ccf-c5aa2a3f2d0f</td>\n",
       "      <td>2020-04-13T22:23:06.997578+00:00</td>\n",
       "      <td>0.9968</td>\n",
       "      <td>NaN</td>\n",
       "      <td>NaN</td>\n",
       "      <td>21.0</td>\n",
       "      <td>male</td>\n",
       "      <td>False</td>\n",
       "      <td>False</td>\n",
       "      <td>...</td>\n",
       "      <td>NaN</td>\n",
       "      <td>NaN</td>\n",
       "      <td>NaN</td>\n",
       "      <td>NaN</td>\n",
       "      <td>NaN</td>\n",
       "      <td>NaN</td>\n",
       "      <td>NaN</td>\n",
       "      <td>NaN</td>\n",
       "      <td>NaN</td>\n",
       "      <td>89571.0</td>\n",
       "    </tr>\n",
       "    <tr>\n",
       "      <th>4</th>\n",
       "      <td>4</td>\n",
       "      <td>001c85a8-cc4d-4921-9297-848be52d4715</td>\n",
       "      <td>2020-04-17T15:24:35.822355+00:00</td>\n",
       "      <td>0.0735</td>\n",
       "      <td>40.6</td>\n",
       "      <td>-3.6</td>\n",
       "      <td>NaN</td>\n",
       "      <td>NaN</td>\n",
       "      <td>NaN</td>\n",
       "      <td>NaN</td>\n",
       "      <td>...</td>\n",
       "      <td>NaN</td>\n",
       "      <td>NaN</td>\n",
       "      <td>NaN</td>\n",
       "      <td>NaN</td>\n",
       "      <td>NaN</td>\n",
       "      <td>NaN</td>\n",
       "      <td>NaN</td>\n",
       "      <td>NaN</td>\n",
       "      <td>NaN</td>\n",
       "      <td>35994.0</td>\n",
       "    </tr>\n",
       "  </tbody>\n",
       "</table>\n",
       "<p>5 rows × 42 columns</p>\n",
       "</div>"
      ],
      "text/plain": [
       "   Unnamed: 0                                  uuid  \\\n",
       "0           0  00039425-7f3a-42aa-ac13-834aaa2b6b92   \n",
       "1           1  0009eb28-d8be-4dc1-92bb-907e53bc5c7a   \n",
       "2           2  0012c608-33d0-4ef7-bde3-75a0b1a0024e   \n",
       "3           3  001328dc-ea5d-4847-9ccf-c5aa2a3f2d0f   \n",
       "4           4  001c85a8-cc4d-4921-9297-848be52d4715   \n",
       "\n",
       "                           datetime  cough_detected  latitude  longitude  \\\n",
       "0  2020-04-13T21:30:59.801831+00:00          0.9609      31.3       34.8   \n",
       "1  2020-04-12T04:02:18.159383+00:00          0.9301      40.0      -75.1   \n",
       "2  2020-04-15T01:03:59.029326+00:00          0.0482     -16.5      -71.5   \n",
       "3  2020-04-13T22:23:06.997578+00:00          0.9968       NaN        NaN   \n",
       "4  2020-04-17T15:24:35.822355+00:00          0.0735      40.6       -3.6   \n",
       "\n",
       "    age gender respiratory_condition fever_muscle_pain  ... dyspnea_3  \\\n",
       "0  15.0   male                 False             False  ...       NaN   \n",
       "1  34.0   male                  True             False  ...       NaN   \n",
       "2   NaN    NaN                   NaN               NaN  ...       NaN   \n",
       "3  21.0   male                 False             False  ...       NaN   \n",
       "4   NaN    NaN                   NaN               NaN  ...       NaN   \n",
       "\n",
       "  wheezing_3 stridor_3 choking_3 congestion_3 nothing_3 cough_type_3  \\\n",
       "0        NaN       NaN       NaN          NaN       NaN          NaN   \n",
       "1        NaN       NaN       NaN          NaN       NaN          NaN   \n",
       "2        NaN       NaN       NaN          NaN       NaN          NaN   \n",
       "3        NaN       NaN       NaN          NaN       NaN          NaN   \n",
       "4        NaN       NaN       NaN          NaN       NaN          NaN   \n",
       "\n",
       "  diagnosis_3 severity_3      ZCR  \n",
       "0         NaN        NaN   6898.0  \n",
       "1         NaN        NaN   9075.0  \n",
       "2         NaN        NaN    164.0  \n",
       "3         NaN        NaN  89571.0  \n",
       "4         NaN        NaN  35994.0  \n",
       "\n",
       "[5 rows x 42 columns]"
      ]
     },
     "execution_count": 5,
     "metadata": {},
     "output_type": "execute_result"
    }
   ],
   "source": [
    "result.head()"
   ]
  },
  {
   "cell_type": "code",
   "execution_count": 6,
   "metadata": {},
   "outputs": [],
   "source": [
    "zcr_status_df = result.dropna(subset=[ 'ZCR', 'status'], inplace=False)[['ZCR', 'status']]"
   ]
  },
  {
   "cell_type": "code",
   "execution_count": 7,
   "metadata": {},
   "outputs": [],
   "source": [
    "temp_df = zcr_status_df.sample(n=1000, random_state=7)"
   ]
  },
  {
   "cell_type": "code",
   "execution_count": null,
   "metadata": {},
   "outputs": [],
   "source": []
  },
  {
   "cell_type": "code",
   "execution_count": null,
   "metadata": {},
   "outputs": [],
   "source": [
    "# cd_status_df= df.dropna(subset=[ 'cough_detected', 'status'], inplace=False)[['cough_detected', 'status']]"
   ]
  },
  {
   "cell_type": "code",
   "execution_count": 18,
   "metadata": {},
   "outputs": [
    {
     "data": {
      "text/plain": [
       "status\n",
       "healthy        0.757962\n",
       "symptomatic    0.150928\n",
       "COVID-19       0.091110\n",
       "Name: proportion, dtype: float64"
      ]
     },
     "execution_count": 18,
     "metadata": {},
     "output_type": "execute_result"
    }
   ],
   "source": [
    "zcr_status_df['status'].value_counts(normalize =True)"
   ]
  },
  {
   "cell_type": "code",
   "execution_count": 19,
   "metadata": {},
   "outputs": [],
   "source": [
    "group1 = temp_df[temp_df['status']=='healthy']['ZCR'].values\n",
    "group2 = temp_df[temp_df['status']=='symptomatic']['ZCR'].values\n",
    "group3 = temp_df[temp_df['status']=='COVID-19']['ZCR'].values"
   ]
  },
  {
   "cell_type": "code",
   "execution_count": 20,
   "metadata": {},
   "outputs": [
    {
     "name": "stdout",
     "output_type": "stream",
     "text": [
      "F-statistic: 0.10384692776659747\n",
      "P-value: 0.9013730089647959\n",
      "Fail to reject the null hypothesis. There are no significant differences among the groups.\n"
     ]
    }
   ],
   "source": [
    "import scipy.stats as stats\n",
    "f_statistic, p_value = stats.f_oneway(group1, group2, group3)\n",
    "alpha = 0.05\n",
    "print(\"F-statistic:\", f_statistic)\n",
    "print(\"P-value:\", p_value)\n",
    "\n",
    "if p_value < alpha:\n",
    "    print(\"Reject the null hypothesis. There are significant differences among the groups.\")\n",
    "else:\n",
    "    print(\"Fail to reject the null hypothesis. There are no significant differences among the groups.\")\n"
   ]
  },
  {
   "cell_type": "code",
   "execution_count": 21,
   "metadata": {},
   "outputs": [
    {
     "data": {
      "text/plain": [
       "<Axes: >"
      ]
     },
     "execution_count": 21,
     "metadata": {},
     "output_type": "execute_result"
    },
    {
     "data": {
      "image/png": "[encoded data removed]",
      "text/plain": [
       "<Figure size 640x480 with 1 Axes>"
      ]
     },
     "metadata": {},
     "output_type": "display_data"
    }
   ],
   "source": [
    "zcr_status_df[zcr_status_df['status']=='healthy']['ZCR'].hist()"
   ]
  },
  {
   "cell_type": "code",
   "execution_count": 22,
   "metadata": {},
   "outputs": [
    {
     "data": {
      "text/plain": [
       "<Axes: >"
      ]
     },
     "execution_count": 22,
     "metadata": {},
     "output_type": "execute_result"
    },
    {
     "data": {
      "image/png": "[encoded data removed]",
      "text/plain": [
       "<Figure size 640x480 with 1 Axes>"
      ]
     },
     "metadata": {},
     "output_type": "display_data"
    }
   ],
   "source": [
    "zcr_status_df[zcr_status_df['status']=='symptomatic']['ZCR'].hist()"
   ]
  },
  {
   "cell_type": "code",
   "execution_count": 23,
   "metadata": {},
   "outputs": [
    {
     "data": {
      "text/plain": [
       "<Axes: >"
      ]
     },
     "execution_count": 23,
     "metadata": {},
     "output_type": "execute_result"
    },
    {
     "data": {
      "image/png": "[encoded data removed]",
      "text/plain": [
       "<Figure size 640x480 with 1 Axes>"
      ]
     },
     "metadata": {},
     "output_type": "display_data"
    }
   ],
   "source": [
    "zcr_status_df[zcr_status_df['status']=='COVID-19']['ZCR'].hist()"
   ]
  },
  {
   "cell_type": "code",
   "execution_count": 24,
   "metadata": {},
   "outputs": [
    {
     "data": {
      "text/plain": [
       "status\n",
       "COVID-19       29078.554217\n",
       "healthy        29496.676396\n",
       "symptomatic    30286.775194\n",
       "Name: ZCR, dtype: float64"
      ]
     },
     "execution_count": 24,
     "metadata": {},
     "output_type": "execute_result"
    }
   ],
   "source": [
    "temp_df.groupby('status')['ZCR'].mean()"
   ]
  },
  {
   "cell_type": "code",
   "execution_count": 8,
   "metadata": {},
   "outputs": [
    {
     "data": {
      "text/plain": [
       "status\n",
       "COVID-19       28761.442756\n",
       "healthy        30701.212520\n",
       "symptomatic    31742.017737\n",
       "Name: ZCR, dtype: float64"
      ]
     },
     "execution_count": 8,
     "metadata": {},
     "output_type": "execute_result"
    }
   ],
   "source": [
    "zcr_status_df.groupby('status')['ZCR'].mean()"
   ]
  },
  {
   "cell_type": "code",
   "execution_count": 9,
   "metadata": {},
   "outputs": [
    {
     "name": "stdout",
     "output_type": "stream",
     "text": [
      "ANOVA results:\n",
      "               df        sum_sq       mean_sq         F    PR(>F)\n",
      "status        2.0  5.480765e+09  2.740383e+09  5.488255  0.004147\n",
      "Residual  10830.0  5.407610e+12  4.993177e+08       NaN       NaN\n",
      "\n",
      "Tukey's HSD results:\n",
      "      Multiple Comparison of Means - Tukey HSD, FWER=0.05       \n",
      "================================================================\n",
      " group1     group2    meandiff p-adj    lower     upper   reject\n",
      "----------------------------------------------------------------\n",
      "COVID-19     healthy 1939.7698  0.027  175.1931 3704.3465   True\n",
      "COVID-19 symptomatic  2980.575 0.0027   869.278  5091.872   True\n",
      " healthy symptomatic 1040.8052 0.1977 -377.6755  2459.286  False\n",
      "----------------------------------------------------------------\n"
     ]
    }
   ],
   "source": [
    "import pandas as pd\n",
    "import statsmodels.api as sm\n",
    "from statsmodels.stats.multicomp import MultiComparison\n",
    "\n",
    "df = zcr_status_df\n",
    "model = sm.OLS.from_formula('ZCR ~ status', data=df)\n",
    "results = model.fit()\n",
    "anova_table = sm.stats.anova_lm(results)\n",
    "mc = MultiComparison(df['ZCR'], df['status'])\n",
    "tukey_result = mc.tukeyhsd()\n",
    "print(\"ANOVA results:\")\n",
    "print(anova_table)\n",
    "print(\"\\nTukey's HSD results:\")\n",
    "print(tukey_result)\n"
   ]
  },
  {
   "cell_type": "code",
   "execution_count": 10,
   "metadata": {},
   "outputs": [
    {
     "data": {
      "text/html": [
       "<table class=\"simpletable\">\n",
       "<caption>Multiple Comparison of Means - Tukey HSD, FWER=0.05</caption>\n",
       "<tr>\n",
       "   <th>group1</th>    <th>group2</th>    <th>meandiff</th>   <th>p-adj</th>   <th>lower</th>     <th>upper</th>   <th>reject</th>\n",
       "</tr>\n",
       "<tr>\n",
       "  <td>COVID-19</td>   <td>healthy</td>   <td>1939.7698</td>  <td>0.027</td> <td>175.1931</td>  <td>3704.3465</td>  <td>True</td> \n",
       "</tr>\n",
       "<tr>\n",
       "  <td>COVID-19</td> <td>symptomatic</td> <td>2980.575</td>  <td>0.0027</td>  <td>869.278</td>  <td>5091.872</td>   <td>True</td> \n",
       "</tr>\n",
       "<tr>\n",
       "   <td>healthy</td> <td>symptomatic</td> <td>1040.8052</td> <td>0.1977</td> <td>-377.6755</td> <td>2459.286</td>   <td>False</td>\n",
       "</tr>\n",
       "</table>"
      ],
      "text/latex": [
       "\\begin{center}\n",
       "\\begin{tabular}{ccccccc}\n",
       "\\toprule\n",
       "\\textbf{group1} & \\textbf{group2} & \\textbf{meandiff} & \\textbf{p-adj} & \\textbf{lower} & \\textbf{upper} & \\textbf{reject}  \\\\\n",
       "\\midrule\n",
       "    COVID-19    &     healthy     &     1939.7698     &     0.027      &    175.1931    &   3704.3465    &       True       \\\\\n",
       "    COVID-19    &   symptomatic   &      2980.575     &     0.0027     &    869.278     &    5091.872    &       True       \\\\\n",
       "    healthy     &   symptomatic   &     1040.8052     &     0.1977     &   -377.6755    &    2459.286    &      False       \\\\\n",
       "\\bottomrule\n",
       "\\end{tabular}\n",
       "%\\caption{Multiple Comparison of Means - Tukey HSD, FWER=0.05}\n",
       "\\end{center}"
      ],
      "text/plain": [
       "<class 'statsmodels.iolib.table.SimpleTable'>"
      ]
     },
     "execution_count": 10,
     "metadata": {},
     "output_type": "execute_result"
    },
    {
     "data": {
      "image/png": "[encoded data removed]",
      "text/plain": [
       "<Figure size 1000x600 with 1 Axes>"
      ]
     },
     "metadata": {},
     "output_type": "display_data"
    }
   ],
   "source": [
    "from statsmodels.stats.multicomp import pairwise_tukeyhsd\n",
    "\n",
    "tukey = pairwise_tukeyhsd(endog=zcr_status_df['ZCR'],     # Data\n",
    "                          groups=zcr_status_df['status'],   # Groups\n",
    "                          alpha=0.05)          # Significance level\n",
    "\n",
    "tukey.plot_simultaneous()    # Plot group confidence intervals\n",
    "plt.vlines(x=49.57,ymin=-0.5,ymax=4.5, color=\"red\")\n",
    "\n",
    "tukey.summary()    "
   ]
  },
  {
   "cell_type": "code",
   "execution_count": null,
   "metadata": {},
   "outputs": [],
   "source": []
  }
 ],
 "metadata": {
  "kernelspec": {
   "display_name": "Cough",
   "language": "python",
   "name": "python3"
  },
  "language_info": {
   "codemirror_mode": {
    "name": "ipython",
    "version": 3
   },
   "file_extension": ".py",
   "mimetype": "text/x-python",
   "name": "python",
   "nbconvert_exporter": "python",
   "pygments_lexer": "ipython3",
   "version": "3.11.5"
  },
  "orig_nbformat": 4
 },
 "nbformat": 4,
 "nbformat_minor": 2
}
