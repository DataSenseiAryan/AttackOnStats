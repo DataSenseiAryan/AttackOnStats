{
 "cells": [
  {
   "cell_type": "code",
   "execution_count": 1,
   "metadata": {},
   "outputs": [],
   "source": [
    "import pandas as pd\n",
    "import numpy as np\n",
    "import datetime\n",
    "import librosa\n",
    "import matplotlib.pyplot as plt\n",
    "import seaborn as sns\n",
    "import os\n",
    "import pathlib\n",
    "import dask.dataframe as dd\n",
    "from dask.multiprocessing import get\n",
    "import numpy as np\n",
    "import librosa\n",
    "from scipy import signal\n",
    "from scipy.io import wavfile\n",
    "from scipy.signal import butter,filtfilt\n",
    "from scipy.stats import kurtosis\n",
    "import scipy.signal as signal\n",
    "from scipy.integrate import simps\n"
   ]
  },
  {
   "cell_type": "code",
   "execution_count": 2,
   "metadata": {},
   "outputs": [],
   "source": [
    "df = pd.read_csv('all_clubed.csv')"
   ]
  },
  {
   "cell_type": "code",
   "execution_count": null,
   "metadata": {},
   "outputs": [],
   "source": []
  },
  {
   "cell_type": "code",
   "execution_count": 3,
   "metadata": {},
   "outputs": [
    {
     "data": {
      "text/plain": [
       "Index(['Unnamed: 0', 'uuid', 'datetime', 'cough_detected', 'latitude',\n",
       "       'longitude', 'age', 'gender', 'respiratory_condition',\n",
       "       'fever_muscle_pain', 'status', 'quality_1', 'cough_type_1', 'dyspnea_1',\n",
       "       'wheezing_1', 'stridor_1', 'choking_1', 'congestion_1', 'nothing_1',\n",
       "       'diagnosis_1', 'severity_1', 'quality_2', 'cough_type_2', 'dyspnea_2',\n",
       "       'wheezing_2', 'stridor_2', 'choking_2', 'congestion_2', 'nothing_2',\n",
       "       'diagnosis_2', 'severity_2', 'quality_3', 'dyspnea_3', 'wheezing_3',\n",
       "       'stridor_3', 'choking_3', 'congestion_3', 'nothing_3', 'cough_type_3',\n",
       "       'diagnosis_3', 'severity_3', 'severity', 'cough_type', 'dyspnea',\n",
       "       'wheezing', 'stridor', 'quality', 'choking', 'congestion', 'nothing',\n",
       "       'diagnosis'],\n",
       "      dtype='object')"
      ]
     },
     "execution_count": 3,
     "metadata": {},
     "output_type": "execute_result"
    }
   ],
   "source": [
    "df.columns"
   ]
  },
  {
   "cell_type": "code",
   "execution_count": 4,
   "metadata": {},
   "outputs": [],
   "source": [
    "resp_status_df= df.dropna(subset=[ 'respiratory_condition', 'status'], inplace=False)[['respiratory_condition', 'status']]"
   ]
  },
  {
   "cell_type": "code",
   "execution_count": 5,
   "metadata": {},
   "outputs": [
    {
     "data": {
      "text/plain": [
       "respiratory_condition  status     \n",
       "False                  healthy        0.647428\n",
       "True                   healthy        0.109334\n",
       "False                  symptomatic    0.103854\n",
       "                       COVID-19       0.059219\n",
       "True                   symptomatic    0.050115\n",
       "                       COVID-19       0.030051\n",
       "Name: proportion, dtype: float64"
      ]
     },
     "execution_count": 5,
     "metadata": {},
     "output_type": "execute_result"
    }
   ],
   "source": [
    "resp_status_df.value_counts(normalize=True)"
   ]
  },
  {
   "cell_type": "code",
   "execution_count": 6,
   "metadata": {},
   "outputs": [
    {
     "name": "stdout",
     "output_type": "stream",
     "text": [
      "Null Hypothesis (H0): There is no substantial relationship between the two variables.\n",
      "Alternative Hypothesis (H1): There is a substantial relationship between variables.\n"
     ]
    }
   ],
   "source": [
    "print(\"Null Hypothesis (H0): There is no substantial relationship between the two variables.\")  \n",
    "print(\"Alternative Hypothesis (H1): There is a substantial relationship between variables.\")\n"
   ]
  },
  {
   "cell_type": "code",
   "execution_count": 7,
   "metadata": {},
   "outputs": [
    {
     "name": "stdout",
     "output_type": "stream",
     "text": [
      "contingency_table :\n",
      " status                 COVID-19  healthy  symptomatic\n",
      "respiratory_condition                                \n",
      "False                       670     7325         1175\n",
      "True                        340     1237          567\n",
      "chi2 statistic:     465.11\n",
      "p-value:            1.0063e-101\n",
      "degrees of freedom: 2\n",
      "expected frequencies:\n",
      " [[ 818.60526781 6939.50327028 1411.89146191]\n",
      " [ 191.39473219 1622.49672972  330.10853809]]\n",
      "465.109553112286\n",
      "Reject H0: There is a realtion between two variables\n"
     ]
    }
   ],
   "source": [
    "import pandas as pd\n",
    "import numpy as np\n",
    "import scipy.stats\n",
    "from scipy.stats import chi2\n",
    "\n",
    "data = resp_status_df\n",
    "data.shape\n",
    "ct_table_ind=pd.crosstab(data['respiratory_condition'],data[\"status\"])\n",
    "print('contingency_table :\\n',ct_table_ind)\n",
    "chi2_stat, p, dof, expected = scipy.stats.chi2_contingency(ct_table_ind)\n",
    "print(f\"chi2 statistic:     {chi2_stat:.5g}\")\n",
    "print(f\"p-value:            {p:.5g}\")\n",
    "print(f\"degrees of freedom: {dof}\")\n",
    "print(\"expected frequencies:\\n\",expected)\n",
    "\n",
    "alpha = 0.05\n",
    "print(chi2_stat)\n",
    "if p>alpha:\n",
    "    print(\"Accept H0: There is no relation between two vairables.\")\n",
    "else:\n",
    "    print(\"Reject H0: There is a realtion between two variables\")\n"
   ]
  },
  {
   "cell_type": "code",
   "execution_count": 8,
   "metadata": {},
   "outputs": [
    {
     "data": {
      "text/plain": [
       "array([[ 670, 7325, 1175],\n",
       "       [ 340, 1237,  567]])"
      ]
     },
     "execution_count": 8,
     "metadata": {},
     "output_type": "execute_result"
    }
   ],
   "source": [
    "ct_table_ind.values"
   ]
  },
  {
   "cell_type": "code",
   "execution_count": 9,
   "metadata": {},
   "outputs": [
    {
     "name": "stdout",
     "output_type": "stream",
     "text": [
      "0.20275405220194795\n"
     ]
    }
   ],
   "source": [
    "n = np.sum(ct_table_ind.values)  # Total number of observations\n",
    "min_dim = min(ct_table_ind.shape) - 1  # Number of categories minus 1\n",
    "\n",
    "cramer_v = np.sqrt(chi2_stat / (n * min_dim))\n",
    "print(cramer_v)"
   ]
  },
  {
   "cell_type": "code",
   "execution_count": 10,
   "metadata": {},
   "outputs": [
    {
     "data": {
      "image/png": "[encoded data removed]",
      "text/plain": [
       "<Figure size 600x600 with 2 Axes>"
      ]
     },
     "metadata": {},
     "output_type": "display_data"
    }
   ],
   "source": [
    "import seaborn as sns\n",
    "fig = plt.figure(figsize=(6,6))\n",
    "sns.heatmap(ct_table_ind, annot=True, cmap='Blues')\n",
    "plt.title('Chi-Square Test Results')\n",
    "plt.show()"
   ]
  },
  {
   "cell_type": "code",
   "execution_count": null,
   "metadata": {},
   "outputs": [],
   "source": []
  },
  {
   "cell_type": "code",
   "execution_count": null,
   "metadata": {},
   "outputs": [],
   "source": []
  },
  {
   "cell_type": "code",
   "execution_count": null,
   "metadata": {},
   "outputs": [],
   "source": []
  },
  {
   "cell_type": "code",
   "execution_count": null,
   "metadata": {},
   "outputs": [],
   "source": []
  },
  {
   "cell_type": "code",
   "execution_count": 38,
   "metadata": {},
   "outputs": [
    {
     "data": {
      "text/html": [
       "<div>\n",
       "<style scoped>\n",
       "    .dataframe tbody tr th:only-of-type {\n",
       "        vertical-align: middle;\n",
       "    }\n",
       "\n",
       "    .dataframe tbody tr th {\n",
       "        vertical-align: top;\n",
       "    }\n",
       "\n",
       "    .dataframe thead th {\n",
       "        text-align: right;\n",
       "    }\n",
       "</style>\n",
       "<table border=\"1\" class=\"dataframe\">\n",
       "  <thead>\n",
       "    <tr style=\"text-align: right;\">\n",
       "      <th></th>\n",
       "      <th>gender</th>\n",
       "      <th>status</th>\n",
       "    </tr>\n",
       "  </thead>\n",
       "  <tbody>\n",
       "    <tr>\n",
       "      <th>0</th>\n",
       "      <td>male</td>\n",
       "      <td>healthy</td>\n",
       "    </tr>\n",
       "    <tr>\n",
       "      <th>1</th>\n",
       "      <td>male</td>\n",
       "      <td>healthy</td>\n",
       "    </tr>\n",
       "    <tr>\n",
       "      <th>3</th>\n",
       "      <td>male</td>\n",
       "      <td>healthy</td>\n",
       "    </tr>\n",
       "    <tr>\n",
       "      <th>5</th>\n",
       "      <td>female</td>\n",
       "      <td>COVID-19</td>\n",
       "    </tr>\n",
       "    <tr>\n",
       "      <th>7</th>\n",
       "      <td>female</td>\n",
       "      <td>healthy</td>\n",
       "    </tr>\n",
       "    <tr>\n",
       "      <th>...</th>\n",
       "      <td>...</td>\n",
       "      <td>...</td>\n",
       "    </tr>\n",
       "    <tr>\n",
       "      <th>20065</th>\n",
       "      <td>male</td>\n",
       "      <td>healthy</td>\n",
       "    </tr>\n",
       "    <tr>\n",
       "      <th>20066</th>\n",
       "      <td>female</td>\n",
       "      <td>healthy</td>\n",
       "    </tr>\n",
       "    <tr>\n",
       "      <th>20067</th>\n",
       "      <td>male</td>\n",
       "      <td>healthy</td>\n",
       "    </tr>\n",
       "    <tr>\n",
       "      <th>20068</th>\n",
       "      <td>female</td>\n",
       "      <td>symptomatic</td>\n",
       "    </tr>\n",
       "    <tr>\n",
       "      <th>20070</th>\n",
       "      <td>male</td>\n",
       "      <td>healthy</td>\n",
       "    </tr>\n",
       "  </tbody>\n",
       "</table>\n",
       "<p>11314 rows × 2 columns</p>\n",
       "</div>"
      ],
      "text/plain": [
       "       gender       status\n",
       "0        male      healthy\n",
       "1        male      healthy\n",
       "3        male      healthy\n",
       "5      female     COVID-19\n",
       "7      female      healthy\n",
       "...       ...          ...\n",
       "20065    male      healthy\n",
       "20066  female      healthy\n",
       "20067    male      healthy\n",
       "20068  female  symptomatic\n",
       "20070    male      healthy\n",
       "\n",
       "[11314 rows x 2 columns]"
      ]
     },
     "execution_count": 38,
     "metadata": {},
     "output_type": "execute_result"
    }
   ],
   "source": [
    "gender_status_df"
   ]
  },
  {
   "cell_type": "code",
   "execution_count": 39,
   "metadata": {},
   "outputs": [],
   "source": [
    "# import sweetviz as sv\n",
    "# report = sv.analyze(gender_status_df)"
   ]
  },
  {
   "cell_type": "code",
   "execution_count": 13,
   "metadata": {},
   "outputs": [
    {
     "data": {
      "image/png": "[encoded data removed]",
      "text/plain": [
       "<Figure size 640x480 with 1 Axes>"
      ]
     },
     "metadata": {},
     "output_type": "display_data"
    }
   ],
   "source": [
    "import pandas as pd\n",
    "import matplotlib.pyplot as plt\n",
    "contingency_table = pd.crosstab(resp_status_df['respiratory_condition'], resp_status_df['status'])\n",
    "contingency_table.plot(kind='bar', stacked=True)\n",
    "plt.title('Distribution of COVID-19 Status by Gender')\n",
    "plt.xlabel('Gender')\n",
    "plt.ylabel('Count')\n",
    "plt.legend(title='COVID-19 Status')\n",
    "plt.show()\n"
   ]
  },
  {
   "cell_type": "code",
   "execution_count": null,
   "metadata": {},
   "outputs": [],
   "source": []
  },
  {
   "cell_type": "code",
   "execution_count": null,
   "metadata": {},
   "outputs": [],
   "source": []
  },
  {
   "cell_type": "code",
   "execution_count": null,
   "metadata": {},
   "outputs": [],
   "source": []
  }
 ],
 "metadata": {
  "kernelspec": {
   "display_name": "Cough",
   "language": "python",
   "name": "python3"
  },
  "language_info": {
   "codemirror_mode": {
    "name": "ipython",
    "version": 3
   },
   "file_extension": ".py",
   "mimetype": "text/x-python",
   "name": "python",
   "nbconvert_exporter": "python",
   "pygments_lexer": "ipython3",
   "version": "3.11.5"
  },
  "orig_nbformat": 4
 },
 "nbformat": 4,
 "nbformat_minor": 2
}
