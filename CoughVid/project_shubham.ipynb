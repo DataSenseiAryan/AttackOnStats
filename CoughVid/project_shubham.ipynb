{
  "cells": [
    {
      "cell_type": "code",
      "execution_count": 5,
      "metadata": {
        "id": "iETb_KiYiuWa"
      },
      "outputs": [],
      "source": [
        "import pandas as pd\n",
        "import numpy as np\n",
        "\n",
        "import seaborn as sns\n",
        "import librosa\n",
        "import matplotlib.pyplot as plt\n",
        "import os\n",
        "import soundfile as sf\n",
        "import math\n",
        "from tqdm import tqdm"
      ]
    },
    {
      "cell_type": "code",
      "execution_count": 6,
      "metadata": {},
      "outputs": [],
      "source": [
        "df = pd.read_csv('/home/abrol/ARYAN_MT22019/CoughVid/public_dataset/metadata_compiled.csv')"
      ]
    },
    {
      "cell_type": "code",
      "execution_count": 7,
      "metadata": {},
      "outputs": [
        {
          "data": {
            "text/plain": [
              "Index(['uuid', 'datetime', 'cough_detected', 'latitude', 'longitude', 'age',\n",
              "       'gender', 'respiratory_condition', 'fever_muscle_pain', 'status',\n",
              "       'quality_1', 'cough_type_1', 'dyspnea_1', 'wheezing_1', 'stridor_1',\n",
              "       'choking_1', 'congestion_1', 'nothing_1', 'diagnosis_1', 'severity_1',\n",
              "       'quality_2', 'cough_type_2', 'dyspnea_2', 'wheezing_2', 'stridor_2',\n",
              "       'choking_2', 'congestion_2', 'nothing_2', 'diagnosis_2', 'severity_2',\n",
              "       'quality_3', 'dyspnea_3', 'wheezing_3', 'stridor_3', 'choking_3',\n",
              "       'congestion_3', 'nothing_3', 'cough_type_3', 'diagnosis_3',\n",
              "       'severity_3'],\n",
              "      dtype='object')"
            ]
          },
          "execution_count": 7,
          "metadata": {},
          "output_type": "execute_result"
        }
      ],
      "source": [
        "df.columns"
      ]
    },
    {
      "cell_type": "code",
      "execution_count": 8,
      "metadata": {},
      "outputs": [],
      "source": [
        "\n",
        "# Import module\n",
        "from geopy.geocoders import Nominatim\n",
        " \n",
        "# Initialize Nominatim API\n",
        "geolocator = Nominatim(user_agent=\"geoapiExercises\")"
      ]
    },
    {
      "cell_type": "code",
      "execution_count": 24,
      "metadata": {},
      "outputs": [
        {
          "data": {
            "text/plain": [
              "(0        31.3\n",
              " 1        40.0\n",
              " 2       -16.5\n",
              " 3         NaN\n",
              " 4        40.6\n",
              "          ... \n",
              " 20067    31.9\n",
              " 20068    51.6\n",
              " 20069   -39.0\n",
              " 20070    41.0\n",
              " 20071    41.0\n",
              " Name: latitude, Length: 20072, dtype: float64,\n",
              " 0        34.8\n",
              " 1       -75.1\n",
              " 2       -71.5\n",
              " 3         NaN\n",
              " 4        -3.6\n",
              "          ... \n",
              " 20067    34.7\n",
              " 20068    -0.2\n",
              " 20069   -68.1\n",
              " 20070    28.8\n",
              " 20071    28.7\n",
              " Name: longitude, Length: 20072, dtype: float64)"
            ]
          },
          "execution_count": 24,
          "metadata": {},
          "output_type": "execute_result"
        }
      ],
      "source": [
        "(df['latitude'], df['longitude'])"
      ]
    },
    {
      "cell_type": "code",
      "execution_count": null,
      "metadata": {},
      "outputs": [],
      "source": [
        "df1 = "
      ]
    },
    {
      "cell_type": "code",
      "execution_count": 35,
      "metadata": {},
      "outputs": [],
      "source": [
        "lat = df['latitude'][20068]\n",
        "long = df['longitude'][20068]\n",
        "s = str(lat) + ', ' + str(long)"
      ]
    },
    {
      "cell_type": "code",
      "execution_count": 36,
      "metadata": {},
      "outputs": [
        {
          "data": {
            "text/plain": [
              "'51.6, -0.2'"
            ]
          },
          "execution_count": 36,
          "metadata": {},
          "output_type": "execute_result"
        }
      ],
      "source": [
        "s"
      ]
    },
    {
      "cell_type": "code",
      "execution_count": 41,
      "metadata": {},
      "outputs": [
        {
          "name": "stdout",
          "output_type": "stream",
          "text": [
            "{'place_id': 241802718, 'licence': 'Data © OpenStreetMap contributors, ODbL 1.0. http://osm.org/copyright', 'osm_type': 'way', 'osm_id': 2984535, 'lat': '51.59938391041735', 'lon': '-0.19983902303008075', 'class': 'highway', 'type': 'residential', 'place_rank': 26, 'importance': 0.10000999999999993, 'addresstype': 'road', 'name': 'Rathgar Close', 'display_name': 'Rathgar Close, Church End, London Borough of Barnet, London, Greater London, England, N3 1UA, United Kingdom', 'address': {'road': 'Rathgar Close', 'suburb': 'Church End', 'city_district': 'London Borough of Barnet', 'ISO3166-2-lvl8': 'GB-BNE', 'city': 'London', 'state_district': 'Greater London', 'state': 'England', 'ISO3166-2-lvl4': 'GB-ENG', 'postcode': 'N3 1UA', 'country': 'United Kingdom', 'country_code': 'gb'}, 'boundingbox': ['51.5992597', '51.5995039', '-0.2003144', '-0.1993798']}\n"
          ]
        }
      ],
      "source": [
        "location = geolocator.reverse(s)\n",
        "print(location.raw)"
      ]
    },
    {
      "cell_type": "code",
      "execution_count": 61,
      "metadata": {},
      "outputs": [
        {
          "data": {
            "text/plain": [
              "'London'"
            ]
          },
          "execution_count": 61,
          "metadata": {},
          "output_type": "execute_result"
        }
      ],
      "source": [
        "a = location.raw\n",
        "a['address']['city']"
      ]
    },
    {
      "cell_type": "code",
      "execution_count": 51,
      "metadata": {},
      "outputs": [
        {
          "data": {
            "text/plain": [
              "{'place_id': 241802718,\n",
              " 'licence': 'Data © OpenStreetMap contributors, ODbL 1.0. http://osm.org/copyright',\n",
              " 'osm_type': 'way',\n",
              " 'osm_id': 2984535,\n",
              " 'lat': '51.59938391041735',\n",
              " 'lon': '-0.19983902303008075',\n",
              " 'class': 'highway',\n",
              " 'type': 'residential',\n",
              " 'place_rank': 26,\n",
              " 'importance': 0.10000999999999993,\n",
              " 'addresstype': 'road',\n",
              " 'name': 'Rathgar Close',\n",
              " 'display_name': 'Rathgar Close, Church End, London Borough of Barnet, London, Greater London, England, N3 1UA, United Kingdom',\n",
              " 'address': {'road': 'Rathgar Close',\n",
              "  'suburb': 'Church End',\n",
              "  'city_district': 'London Borough of Barnet',\n",
              "  'ISO3166-2-lvl8': 'GB-BNE',\n",
              "  'city': 'London',\n",
              "  'state_district': 'Greater London',\n",
              "  'state': 'England',\n",
              "  'ISO3166-2-lvl4': 'GB-ENG',\n",
              "  'postcode': 'N3 1UA',\n",
              "  'country': 'United Kingdom',\n",
              "  'country_code': 'gb'},\n",
              " 'boundingbox': ['51.5992597', '51.5995039', '-0.2003144', '-0.1993798']}"
            ]
          },
          "execution_count": 51,
          "metadata": {},
          "output_type": "execute_result"
        }
      ],
      "source": [
        "location.raw"
      ]
    },
    {
      "cell_type": "code",
      "execution_count": 64,
      "metadata": {},
      "outputs": [],
      "source": [
        "def locationApi(lat, long):\n",
        "    if np.isnan(lat) or np.isnan(long):\n",
        "        return float('nan'), float('nan'), float('nan')\n",
        "\n",
        "    s = str(lat) + ', ' + str(long)\n",
        "    location = geolocator.reverse(s)\n",
        "    a = location.raw\n",
        "    if 'address' not in a:\n",
        "        return float('nan'), float('nan'), float('nan')\n",
        "\n",
        "    result1 = float('nan')\n",
        "    result2 = float('nan')\n",
        "    result3 = float('nan')\n",
        "\n",
        "    if 'country' in a['address']:\n",
        "        result1 = a['address']['country']\n",
        "    if 'state' in a['address']:\n",
        "        result2 = a['address']['state']\n",
        "    if 'city' in a['address']:\n",
        "        result3 = a['address']['city']\n",
        "        \n",
        "    return result1, result2, result3\n",
        "    "
      ]
    },
    {
      "cell_type": "code",
      "execution_count": 57,
      "metadata": {},
      "outputs": [],
      "source": [
        "new_df = df[['latitude', 'longitude']].copy()"
      ]
    },
    {
      "cell_type": "code",
      "execution_count": 65,
      "metadata": {},
      "outputs": [],
      "source": [
        "new_df[['country', 'state', 'city']] = new_df.apply(lambda row: pd.Series(locationApi(row['latitude'], row['longitude'])), axis=1)"
      ]
    },
    {
      "cell_type": "code",
      "execution_count": 68,
      "metadata": {},
      "outputs": [
        {
          "data": {
            "text/html": [
              "<div>\n",
              "<style scoped>\n",
              "    .dataframe tbody tr th:only-of-type {\n",
              "        vertical-align: middle;\n",
              "    }\n",
              "\n",
              "    .dataframe tbody tr th {\n",
              "        vertical-align: top;\n",
              "    }\n",
              "\n",
              "    .dataframe thead th {\n",
              "        text-align: right;\n",
              "    }\n",
              "</style>\n",
              "<table border=\"1\" class=\"dataframe\">\n",
              "  <thead>\n",
              "    <tr style=\"text-align: right;\">\n",
              "      <th></th>\n",
              "      <th>latitude</th>\n",
              "      <th>longitude</th>\n",
              "      <th>country</th>\n",
              "      <th>state</th>\n",
              "      <th>city</th>\n",
              "    </tr>\n",
              "  </thead>\n",
              "  <tbody>\n",
              "    <tr>\n",
              "      <th>0</th>\n",
              "      <td>31.3</td>\n",
              "      <td>34.8</td>\n",
              "      <td>ישראל</td>\n",
              "      <td>מחוז הדרום</td>\n",
              "      <td>באר שבע</td>\n",
              "    </tr>\n",
              "    <tr>\n",
              "      <th>1</th>\n",
              "      <td>40.0</td>\n",
              "      <td>-75.1</td>\n",
              "      <td>United States</td>\n",
              "      <td>Pennsylvania</td>\n",
              "      <td>Philadelphia</td>\n",
              "    </tr>\n",
              "    <tr>\n",
              "      <th>2</th>\n",
              "      <td>-16.5</td>\n",
              "      <td>-71.5</td>\n",
              "      <td>Perú</td>\n",
              "      <td>Arequipa</td>\n",
              "      <td>NaN</td>\n",
              "    </tr>\n",
              "    <tr>\n",
              "      <th>3</th>\n",
              "      <td>NaN</td>\n",
              "      <td>NaN</td>\n",
              "      <td>NaN</td>\n",
              "      <td>NaN</td>\n",
              "      <td>NaN</td>\n",
              "    </tr>\n",
              "    <tr>\n",
              "      <th>4</th>\n",
              "      <td>40.6</td>\n",
              "      <td>-3.6</td>\n",
              "      <td>España</td>\n",
              "      <td>Comunidad de Madrid</td>\n",
              "      <td>NaN</td>\n",
              "    </tr>\n",
              "    <tr>\n",
              "      <th>...</th>\n",
              "      <td>...</td>\n",
              "      <td>...</td>\n",
              "      <td>...</td>\n",
              "      <td>...</td>\n",
              "      <td>...</td>\n",
              "    </tr>\n",
              "    <tr>\n",
              "      <th>20067</th>\n",
              "      <td>31.9</td>\n",
              "      <td>34.7</td>\n",
              "      <td>ישראל</td>\n",
              "      <td>NaN</td>\n",
              "      <td>יבנה</td>\n",
              "    </tr>\n",
              "    <tr>\n",
              "      <th>20068</th>\n",
              "      <td>51.6</td>\n",
              "      <td>-0.2</td>\n",
              "      <td>United Kingdom</td>\n",
              "      <td>England</td>\n",
              "      <td>London</td>\n",
              "    </tr>\n",
              "    <tr>\n",
              "      <th>20069</th>\n",
              "      <td>-39.0</td>\n",
              "      <td>-68.1</td>\n",
              "      <td>Argentina</td>\n",
              "      <td>Río Negro</td>\n",
              "      <td>NaN</td>\n",
              "    </tr>\n",
              "    <tr>\n",
              "      <th>20070</th>\n",
              "      <td>41.0</td>\n",
              "      <td>28.8</td>\n",
              "      <td>Türkiye</td>\n",
              "      <td>NaN</td>\n",
              "      <td>NaN</td>\n",
              "    </tr>\n",
              "    <tr>\n",
              "      <th>20071</th>\n",
              "      <td>41.0</td>\n",
              "      <td>28.7</td>\n",
              "      <td>Türkiye</td>\n",
              "      <td>NaN</td>\n",
              "      <td>NaN</td>\n",
              "    </tr>\n",
              "  </tbody>\n",
              "</table>\n",
              "<p>20072 rows × 5 columns</p>\n",
              "</div>"
            ],
            "text/plain": [
              "       latitude  longitude         country                state          city\n",
              "0          31.3       34.8           ישראל           מחוז הדרום       באר שבע\n",
              "1          40.0      -75.1   United States         Pennsylvania  Philadelphia\n",
              "2         -16.5      -71.5            Perú             Arequipa           NaN\n",
              "3           NaN        NaN             NaN                  NaN           NaN\n",
              "4          40.6       -3.6          España  Comunidad de Madrid           NaN\n",
              "...         ...        ...             ...                  ...           ...\n",
              "20067      31.9       34.7           ישראל                  NaN          יבנה\n",
              "20068      51.6       -0.2  United Kingdom              England        London\n",
              "20069     -39.0      -68.1       Argentina            Río Negro           NaN\n",
              "20070      41.0       28.8         Türkiye                  NaN           NaN\n",
              "20071      41.0       28.7         Türkiye                  NaN           NaN\n",
              "\n",
              "[20072 rows x 5 columns]"
            ]
          },
          "execution_count": 68,
          "metadata": {},
          "output_type": "execute_result"
        }
      ],
      "source": [
        "new_df"
      ]
    },
    {
      "cell_type": "code",
      "execution_count": 70,
      "metadata": {},
      "outputs": [],
      "source": [
        "new_df.to_csv('location_details.csv', index=True)"
      ]
    },
    {
      "cell_type": "code",
      "execution_count": null,
      "metadata": {},
      "outputs": [],
      "source": []
    }
  ],
  "metadata": {
    "colab": {
      "provenance": []
    },
    "kernelspec": {
      "display_name": "Python 3",
      "name": "python3"
    },
    "language_info": {
      "codemirror_mode": {
        "name": "ipython",
        "version": 3
      },
      "file_extension": ".py",
      "mimetype": "text/x-python",
      "name": "python",
      "nbconvert_exporter": "python",
      "pygments_lexer": "ipython3",
      "version": "3.11.5"
    }
  },
  "nbformat": 4,
  "nbformat_minor": 0
}
