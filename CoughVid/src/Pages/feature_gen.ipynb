{
 "cells": [
  {
   "cell_type": "code",
   "execution_count": 18,
   "metadata": {},
   "outputs": [
    {
     "ename": "ModuleNotFoundError",
     "evalue": "No module named 'src'",
     "output_type": "error",
     "traceback": [
      "\u001b[0;31m---------------------------------------------------------------------------\u001b[0m",
      "\u001b[0;31mModuleNotFoundError\u001b[0m                       Traceback (most recent call last)",
      "\u001b[1;32m/home/abrol/ARYAN_MT22019/CoughVid/src/Pages/feature_gen.ipynb Cell 1\u001b[0m line \u001b[0;36m2\n\u001b[1;32m     <a href='vscode-notebook-cell://ssh-remote%2B192.168.3.63/home/abrol/ARYAN_MT22019/CoughVid/src/Pages/feature_gen.ipynb#W0sdnNjb2RlLXJlbW90ZQ%3D%3D?line=17'>18</a>\u001b[0m \u001b[39mimport\u001b[39;00m \u001b[39mIPython\u001b[39;00m\u001b[39m.\u001b[39;00m\u001b[39mdisplay\u001b[39;00m \u001b[39mas\u001b[39;00m \u001b[39mipd\u001b[39;00m\n\u001b[1;32m     <a href='vscode-notebook-cell://ssh-remote%2B192.168.3.63/home/abrol/ARYAN_MT22019/CoughVid/src/Pages/feature_gen.ipynb#W0sdnNjb2RlLXJlbW90ZQ%3D%3D?line=19'>20</a>\u001b[0m \u001b[39m# App modules\u001b[39;00m\n\u001b[1;32m     <a href='vscode-notebook-cell://ssh-remote%2B192.168.3.63/home/abrol/ARYAN_MT22019/CoughVid/src/Pages/feature_gen.ipynb#W0sdnNjb2RlLXJlbW90ZQ%3D%3D?line=20'>21</a>\u001b[0m \u001b[39m# from src.Utils import Utils\u001b[39;00m\n\u001b[0;32m---> <a href='vscode-notebook-cell://ssh-remote%2B192.168.3.63/home/abrol/ARYAN_MT22019/CoughVid/src/Pages/feature_gen.ipynb#W0sdnNjb2RlLXJlbW90ZQ%3D%3D?line=21'>22</a>\u001b[0m \u001b[39mfrom\u001b[39;00m \u001b[39msrc\u001b[39;00m\u001b[39m.\u001b[39;00m\u001b[39mCovidClassifier\u001b[39;00m \u001b[39mimport\u001b[39;00m CovidClassifier\n\u001b[1;32m     <a href='vscode-notebook-cell://ssh-remote%2B192.168.3.63/home/abrol/ARYAN_MT22019/CoughVid/src/Pages/feature_gen.ipynb#W0sdnNjb2RlLXJlbW90ZQ%3D%3D?line=22'>23</a>\u001b[0m \u001b[39mfrom\u001b[39;00m \u001b[39msrc\u001b[39;00m\u001b[39m.\u001b[39;00m\u001b[39mCoughDetector\u001b[39;00m \u001b[39mimport\u001b[39;00m CoughDetector\n\u001b[1;32m     <a href='vscode-notebook-cell://ssh-remote%2B192.168.3.63/home/abrol/ARYAN_MT22019/CoughVid/src/Pages/feature_gen.ipynb#W0sdnNjb2RlLXJlbW90ZQ%3D%3D?line=24'>25</a>\u001b[0m \u001b[39m# Audio recording + processing\u001b[39;00m\n",
      "\u001b[0;31mModuleNotFoundError\u001b[0m: No module named 'src'"
     ]
    }
   ],
   "source": [
    "import pandas as pd\n",
    "import numpy as np\n",
    "import librosa\n",
    "import matplotlib.pyplot as plt\n",
    "import seaborn as sns\n",
    "import os\n",
    "import pathlib\n",
    "import dask.dataframe as dd\n",
    "from dask.multiprocessing import get\n",
    "import numpy as np\n",
    "import librosa\n",
    "from scipy import signal\n",
    "from scipy.io import wavfile\n",
    "from scipy.signal import butter,filtfilt\n",
    "from scipy.stats import kurtosis\n",
    "import scipy.signal as signal\n",
    "from scipy.integrate import simps\n",
    "import IPython.display as ipd\n",
    "\n",
    "# App modules\n",
    "# from src.Utils import Utils\n",
    "from src.CovidClassifier import CovidClassifier\n",
    "from src.CoughDetector import CoughDetector\n",
    "\n",
    "# Audio recording + processing\n",
    "from scipy.io import wavfile\n",
    "import sounddevice as sd\n",
    "import soundfile as sf\n"
   ]
  },
  {
   "cell_type": "code",
   "execution_count": null,
   "metadata": {},
   "outputs": [],
   "source": [
    "# Classifiers\n",
    "COUGH_DETECTOR = CoughDetector()\n",
    "COVID_CLASSIFIER = CovidClassifier()"
   ]
  },
  {
   "cell_type": "code",
   "execution_count": 17,
   "metadata": {},
   "outputs": [
    {
     "data": {
      "text/plain": [
       "['/home/abrol/ARYAN_MT22019/CoughVid/src/Pages',\n",
       " '/home/abrol/miniconda3/envs/Cough/lib/python311.zip',\n",
       " '/home/abrol/miniconda3/envs/Cough/lib/python3.11',\n",
       " '/home/abrol/miniconda3/envs/Cough/lib/python3.11/lib-dynload',\n",
       " '',\n",
       " '/home/abrol/miniconda3/envs/Cough/lib/python3.11/site-packages',\n",
       " '/home/abrol/ARYAN_MT22019/CoughVid/src',\n",
       " '/home/abrol/ARYAN_MT22019/CoughVid/src/Utils']"
      ]
     },
     "execution_count": 17,
     "metadata": {},
     "output_type": "execute_result"
    }
   ],
   "source": [
    "import sys\n",
    "sys.path\n"
   ]
  },
  {
   "cell_type": "code",
   "execution_count": 7,
   "metadata": {},
   "outputs": [],
   "source": [
    "sys.path.append('/home/abrol/ARYAN_MT22019/CoughVid/src/Utils')"
   ]
  },
  {
   "cell_type": "code",
   "execution_count": null,
   "metadata": {},
   "outputs": [],
   "source": [
    "def detect_cough(recording, sr):\n",
    "    \"\"\"\n",
    "    Predicts whether a cough is present in the recording using model stored in app.\n",
    "\n",
    "    Args:\n",
    "      recording (np.array): user recording.\n",
    "      sr (int): sample rate\n",
    "    Returns:\n",
    "      pred_conf (float): predicted confidence of cough existence.\n",
    "    \"\"\"\n",
    "    features = COUGH_DETECTOR.extract_features(recording, sr)\n",
    "    return features"
   ]
  },
  {
   "cell_type": "code",
   "execution_count": null,
   "metadata": {},
   "outputs": [],
   "source": [
    "filename= '/home/abrol/ARYAN_MT22019/CoughVid/public_dataset/fffce9f0-a5e8-4bee-b13b-c671aac4a61c.webm'\n",
    "data_vec = []\n",
    "Sampling_rate_vec = []  # sample rate\n",
    "features = []\n",
    "\n",
    "y, sr = librosa.load(filename)\n",
    "data_vec.append(y)\n",
    "Sampling_rate_vec.append(sr)\n",
    "f = detect_cough(y, sr)\n",
    "features.append(f)"
   ]
  },
  {
   "cell_type": "code",
   "execution_count": null,
   "metadata": {},
   "outputs": [],
   "source": [
    "print(data_vec)\n",
    "print(Sampling_rate_vec)\n",
    "print(features)"
   ]
  },
  {
   "cell_type": "code",
   "execution_count": null,
   "metadata": {},
   "outputs": [],
   "source": [
    "files_dir = \"/home/abrol/ARYAN_MT22019/CoughVid/public_dataset/\"\n",
    "data_vec = []\n",
    "Sampling_rate_vec = []  # sample rate\n",
    "features = []\n",
    "\n",
    "for audio_file in os.listdir(files_dir):\n",
    "    if audio_file.endswith('.webm'):\n",
    "        audio_path = os.path.join(files_dir, audio_file)\n",
    "        y, sr = librosa.load(audio_path)\n",
    "        data_vec.append(y)\n",
    "        Sampling_rate_vec.append(sr)\n",
    "        f = detect_cough(y, sr)\n",
    "        features.append(f)\n",
    "        "
   ]
  }
 ],
 "metadata": {
  "kernelspec": {
   "display_name": "Python 3",
   "language": "python",
   "name": "python3"
  },
  "language_info": {
   "codemirror_mode": {
    "name": "ipython",
    "version": 3
   },
   "file_extension": ".py",
   "mimetype": "text/x-python",
   "name": "python",
   "nbconvert_exporter": "python",
   "pygments_lexer": "ipython3",
   "version": "3.11.5"
  }
 },
 "nbformat": 4,
 "nbformat_minor": 2
}
