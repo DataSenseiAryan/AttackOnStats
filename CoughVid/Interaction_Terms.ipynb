{
 "cells": [
  {
   "cell_type": "code",
   "execution_count": 1,
   "metadata": {},
   "outputs": [],
   "source": [
    "import pandas as pd\n",
    "import numpy as np\n",
    "\n",
    "import seaborn as sns\n",
    "import librosa\n",
    "import matplotlib.pyplot as plt\n",
    "import os\n",
    "import soundfile as sf\n",
    "import math\n",
    "from tqdm import tqdm"
   ]
  },
  {
   "cell_type": "code",
   "execution_count": 2,
   "metadata": {},
   "outputs": [],
   "source": [
    "df = pd.read_csv('/home/abrol/ARYAN_MT22019/CoughVid/public_dataset/metadata_compiled.csv')"
   ]
  },
  {
   "cell_type": "code",
   "execution_count": 3,
   "metadata": {},
   "outputs": [
    {
     "data": {
      "text/plain": [
       "Index(['uuid', 'datetime', 'cough_detected', 'latitude', 'longitude', 'age',\n",
       "       'gender', 'respiratory_condition', 'fever_muscle_pain', 'status',\n",
       "       'quality_1', 'cough_type_1', 'dyspnea_1', 'wheezing_1', 'stridor_1',\n",
       "       'choking_1', 'congestion_1', 'nothing_1', 'diagnosis_1', 'severity_1',\n",
       "       'quality_2', 'cough_type_2', 'dyspnea_2', 'wheezing_2', 'stridor_2',\n",
       "       'choking_2', 'congestion_2', 'nothing_2', 'diagnosis_2', 'severity_2',\n",
       "       'quality_3', 'dyspnea_3', 'wheezing_3', 'stridor_3', 'choking_3',\n",
       "       'congestion_3', 'nothing_3', 'cough_type_3', 'diagnosis_3',\n",
       "       'severity_3'],\n",
       "      dtype='object')"
      ]
     },
     "execution_count": 3,
     "metadata": {},
     "output_type": "execute_result"
    }
   ],
   "source": [
    "df.columns"
   ]
  },
  {
   "cell_type": "code",
   "execution_count": 7,
   "metadata": {},
   "outputs": [],
   "source": [
    "def interactionTerms(val1, val2):\n",
    "    s = str(val1) + '_' + str(val2)\n",
    "    return s"
   ]
  },
  {
   "cell_type": "code",
   "execution_count": 4,
   "metadata": {},
   "outputs": [],
   "source": [
    "age_gender = df.dropna(subset=['age', 'gender', 'status'], inplace=False)\n",
    "age_respiratory_condition = df.dropna(subset=['age', 'respiratory_condition', 'status'], inplace=False)\n",
    "respiratory_condition_fever_muscle_pain = df.dropna(subset=['respiratory_condition', 'fever_muscle_pain', 'status'], inplace=False)\n",
    "gender_cough_detected = df.dropna(subset=['gender', 'cough_detected', 'status'], inplace=False)"
   ]
  },
  {
   "cell_type": "code",
   "execution_count": 8,
   "metadata": {},
   "outputs": [
    {
     "name": "stderr",
     "output_type": "stream",
     "text": [
      "/tmp/ipykernel_847705/1713806886.py:1: SettingWithCopyWarning: \n",
      "A value is trying to be set on a copy of a slice from a DataFrame.\n",
      "Try using .loc[row_indexer,col_indexer] = value instead\n",
      "\n",
      "See the caveats in the documentation: https://pandas.pydata.org/pandas-docs/stable/user_guide/indexing.html#returning-a-view-versus-a-copy\n",
      "  age_gender['age_gender_inter'] = age_gender.apply(lambda row: pd.Series(interactionTerms(row['age'], row['gender'])), axis=1)\n",
      "/tmp/ipykernel_847705/1713806886.py:2: SettingWithCopyWarning: \n",
      "A value is trying to be set on a copy of a slice from a DataFrame.\n",
      "Try using .loc[row_indexer,col_indexer] = value instead\n",
      "\n",
      "See the caveats in the documentation: https://pandas.pydata.org/pandas-docs/stable/user_guide/indexing.html#returning-a-view-versus-a-copy\n",
      "  age_respiratory_condition['age_respiratory_condition_inter'] = age_respiratory_condition.apply(lambda row: pd.Series(interactionTerms(row['age'], row['respiratory_condition'])), axis=1)\n",
      "/tmp/ipykernel_847705/1713806886.py:3: SettingWithCopyWarning: \n",
      "A value is trying to be set on a copy of a slice from a DataFrame.\n",
      "Try using .loc[row_indexer,col_indexer] = value instead\n",
      "\n",
      "See the caveats in the documentation: https://pandas.pydata.org/pandas-docs/stable/user_guide/indexing.html#returning-a-view-versus-a-copy\n",
      "  respiratory_condition_fever_muscle_pain['respiratory_condition_fever_muscle_pain_inter'] = respiratory_condition_fever_muscle_pain.apply(lambda row: pd.Series(interactionTerms(row['respiratory_condition'], row['fever_muscle_pain'])), axis=1)\n",
      "/tmp/ipykernel_847705/1713806886.py:4: SettingWithCopyWarning: \n",
      "A value is trying to be set on a copy of a slice from a DataFrame.\n",
      "Try using .loc[row_indexer,col_indexer] = value instead\n",
      "\n",
      "See the caveats in the documentation: https://pandas.pydata.org/pandas-docs/stable/user_guide/indexing.html#returning-a-view-versus-a-copy\n",
      "  gender_cough_detected['gender_cough_detected_inter'] = gender_cough_detected.apply(lambda row: pd.Series(interactionTerms(row['gender'], row['cough_detected'])), axis=1)\n"
     ]
    }
   ],
   "source": [
    "age_gender['age_gender_inter'] = age_gender.apply(lambda row: pd.Series(interactionTerms(row['age'], row['gender'])), axis=1)\n",
    "age_respiratory_condition['age_respiratory_condition_inter'] = age_respiratory_condition.apply(lambda row: pd.Series(interactionTerms(row['age'], row['respiratory_condition'])), axis=1)\n",
    "respiratory_condition_fever_muscle_pain['respiratory_condition_fever_muscle_pain_inter'] = respiratory_condition_fever_muscle_pain.apply(lambda row: pd.Series(interactionTerms(row['respiratory_condition'], row['fever_muscle_pain'])), axis=1)\n",
    "gender_cough_detected['gender_cough_detected_inter'] = gender_cough_detected.apply(lambda row: pd.Series(interactionTerms(row['gender'], row['cough_detected'])), axis=1)"
   ]
  },
  {
   "cell_type": "code",
   "execution_count": 9,
   "metadata": {},
   "outputs": [],
   "source": [
    "age_gender.to_csv('age_gender_interaction.csv', index=True)"
   ]
  },
  {
   "cell_type": "code",
   "execution_count": 10,
   "metadata": {},
   "outputs": [],
   "source": [
    "age_respiratory_condition.to_csv('age_respiratory_condition_interaction.csv', index=True)"
   ]
  },
  {
   "cell_type": "code",
   "execution_count": 11,
   "metadata": {},
   "outputs": [],
   "source": [
    "respiratory_condition_fever_muscle_pain.to_csv('respiratory_condition_fever_muscle_pain_interaction.csv', index=True)"
   ]
  },
  {
   "cell_type": "code",
   "execution_count": 12,
   "metadata": {},
   "outputs": [],
   "source": [
    "gender_cough_detected.to_csv('gender_cough_detected_interaction.csv', index=True)"
   ]
  },
  {
   "cell_type": "code",
   "execution_count": null,
   "metadata": {},
   "outputs": [],
   "source": []
  }
 ],
 "metadata": {
  "kernelspec": {
   "display_name": "Cough",
   "language": "python",
   "name": "python3"
  },
  "language_info": {
   "codemirror_mode": {
    "name": "ipython",
    "version": 3
   },
   "file_extension": ".py",
   "mimetype": "text/x-python",
   "name": "python",
   "nbconvert_exporter": "python",
   "pygments_lexer": "ipython3",
   "version": "3.11.5"
  }
 },
 "nbformat": 4,
 "nbformat_minor": 2
}
