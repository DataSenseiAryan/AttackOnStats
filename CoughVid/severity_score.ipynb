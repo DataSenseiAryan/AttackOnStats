{
 "cells": [
  {
   "cell_type": "code",
   "execution_count": 1,
   "metadata": {},
   "outputs": [],
   "source": [
    "import pandas as pd\n",
    "import numpy as np\n",
    "\n",
    "import seaborn as sns\n",
    "import librosa\n",
    "import matplotlib.pyplot as plt\n",
    "import os\n",
    "import soundfile as sf\n",
    "import math\n",
    "from tqdm import tqdm"
   ]
  },
  {
   "cell_type": "code",
   "execution_count": 2,
   "metadata": {},
   "outputs": [],
   "source": [
    "df = pd.read_csv('/home/abrol/ARYAN_MT22019/CoughVid/public_dataset/metadata_compiled.csv')"
   ]
  },
  {
   "cell_type": "code",
   "execution_count": 3,
   "metadata": {},
   "outputs": [
    {
     "data": {
      "text/plain": [
       "Index(['uuid', 'datetime', 'cough_detected', 'latitude', 'longitude', 'age',\n",
       "       'gender', 'respiratory_condition', 'fever_muscle_pain', 'status',\n",
       "       'quality_1', 'cough_type_1', 'dyspnea_1', 'wheezing_1', 'stridor_1',\n",
       "       'choking_1', 'congestion_1', 'nothing_1', 'diagnosis_1', 'severity_1',\n",
       "       'quality_2', 'cough_type_2', 'dyspnea_2', 'wheezing_2', 'stridor_2',\n",
       "       'choking_2', 'congestion_2', 'nothing_2', 'diagnosis_2', 'severity_2',\n",
       "       'quality_3', 'dyspnea_3', 'wheezing_3', 'stridor_3', 'choking_3',\n",
       "       'congestion_3', 'nothing_3', 'cough_type_3', 'diagnosis_3',\n",
       "       'severity_3'],\n",
       "      dtype='object')"
      ]
     },
     "execution_count": 3,
     "metadata": {},
     "output_type": "execute_result"
    }
   ],
   "source": [
    "df.columns"
   ]
  },
  {
   "cell_type": "code",
   "execution_count": 27,
   "metadata": {},
   "outputs": [],
   "source": [
    "def merge_one_hot(row):\n",
    "    for col in df[['severity_1', 'severity_2', 'severity_3']]:\n",
    "        if pd.notna(row[col]):\n",
    "            return row[col]\n",
    "    return float('nan')  # Return None for rows where all values are 0\n",
    "\n",
    "df['severity'] = df.apply(merge_one_hot, axis=1)"
   ]
  },
  {
   "cell_type": "code",
   "execution_count": 29,
   "metadata": {},
   "outputs": [
    {
     "data": {
      "text/plain": [
       "array([nan, 'pseudocough', 'mild', 'severe', 'unknown'], dtype=object)"
      ]
     },
     "execution_count": 29,
     "metadata": {},
     "output_type": "execute_result"
    }
   ],
   "source": [
    "df['severity'].unique()"
   ]
  },
  {
   "cell_type": "code",
   "execution_count": 33,
   "metadata": {},
   "outputs": [],
   "source": [
    "def merge_one_hot_cough_type(row):\n",
    "    for col in df[['cough_type_1', 'cough_type_2', 'cough_type_3']]:\n",
    "        if pd.notna(row[col]):\n",
    "            return row[col]\n",
    "    return float('nan')  # Return None for rows where all values are 0\n",
    "\n",
    "df['cough_type'] = df.apply(merge_one_hot_cough_type, axis=1)"
   ]
  },
  {
   "cell_type": "code",
   "execution_count": 34,
   "metadata": {},
   "outputs": [
    {
     "data": {
      "text/plain": [
       "array([nan, 'dry', 'unknown', 'wet'], dtype=object)"
      ]
     },
     "execution_count": 34,
     "metadata": {},
     "output_type": "execute_result"
    }
   ],
   "source": [
    "df['cough_type'].unique()"
   ]
  },
  {
   "cell_type": "code",
   "execution_count": 42,
   "metadata": {},
   "outputs": [
    {
     "data": {
      "text/plain": [
       "array([nan, False, True], dtype=object)"
      ]
     },
     "execution_count": 42,
     "metadata": {},
     "output_type": "execute_result"
    }
   ],
   "source": [
    "def merge_one_hot_dyspnea(row):\n",
    "    for col in df[['dyspnea_1', 'dyspnea_2', 'dyspnea_3']]:\n",
    "        if pd.notna(row[col]):\n",
    "            return row[col]\n",
    "    return float('nan')  # Return None for rows where all values are 0\n",
    "\n",
    "df['dyspnea'] = df.apply(merge_one_hot_dyspnea, axis=1)\n",
    "df['dyspnea'].unique()"
   ]
  },
  {
   "cell_type": "code",
   "execution_count": 43,
   "metadata": {},
   "outputs": [
    {
     "data": {
      "text/plain": [
       "array([nan, 'ok', 'poor', 'good', 'no_cough'], dtype=object)"
      ]
     },
     "execution_count": 43,
     "metadata": {},
     "output_type": "execute_result"
    }
   ],
   "source": [
    "df['quality_1'].unique()"
   ]
  },
  {
   "cell_type": "code",
   "execution_count": 39,
   "metadata": {},
   "outputs": [
    {
     "data": {
      "text/plain": [
       "array([nan, False, True], dtype=object)"
      ]
     },
     "execution_count": 39,
     "metadata": {},
     "output_type": "execute_result"
    }
   ],
   "source": [
    "def merge_one_hot_wheezing(row):\n",
    "    for col in df[['wheezing_1', 'wheezing_2', 'wheezing_3']]:\n",
    "        if pd.notna(row[col]):\n",
    "            return row[col]\n",
    "    return float('nan')  # Return None for rows where all values are 0\n",
    "\n",
    "df['wheezing'] = df.apply(merge_one_hot_wheezing, axis=1)\n",
    "df['wheezing'].unique()"
   ]
  },
  {
   "cell_type": "code",
   "execution_count": 41,
   "metadata": {},
   "outputs": [
    {
     "data": {
      "text/plain": [
       "array([nan, False, True], dtype=object)"
      ]
     },
     "execution_count": 41,
     "metadata": {},
     "output_type": "execute_result"
    }
   ],
   "source": [
    "def merge_one_hot_stridor(row):\n",
    "    for col in df[['stridor_1', 'stridor_2', 'stridor_3']]:\n",
    "        if pd.notna(row[col]):\n",
    "            return row[col]\n",
    "    return float('nan')  # Return None for rows where all values are 0\n",
    "\n",
    "df['stridor'] = df.apply(merge_one_hot_stridor, axis=1)\n",
    "df['stridor'].unique()"
   ]
  },
  {
   "cell_type": "code",
   "execution_count": 44,
   "metadata": {},
   "outputs": [
    {
     "data": {
      "text/plain": [
       "array([nan, 'good', 'ok', 'poor', 'no_cough'], dtype=object)"
      ]
     },
     "execution_count": 44,
     "metadata": {},
     "output_type": "execute_result"
    }
   ],
   "source": [
    "def merge_one_hot_quality(row):\n",
    "    for col in df[['quality_1', 'quality_2', 'quality_3']]:\n",
    "        if pd.notna(row[col]):\n",
    "            return row[col]\n",
    "    return float('nan')  # Return None for rows where all values are 0\n",
    "\n",
    "df['quality'] = df.apply(merge_one_hot_quality, axis=1)\n",
    "df['quality'].unique()"
   ]
  },
  {
   "cell_type": "code",
   "execution_count": 45,
   "metadata": {},
   "outputs": [
    {
     "data": {
      "text/plain": [
       "array([nan, False, True], dtype=object)"
      ]
     },
     "execution_count": 45,
     "metadata": {},
     "output_type": "execute_result"
    }
   ],
   "source": [
    "def merge_one_hot_chocking(row):\n",
    "    for col in df[['choking_1', 'choking_2', 'choking_3']]:\n",
    "        if pd.notna(row[col]):\n",
    "            return row[col]\n",
    "    return float('nan')  # Return None for rows where all values are 0\n",
    "\n",
    "df['choking'] = df.apply(merge_one_hot_chocking, axis=1)\n",
    "df['choking'].unique()"
   ]
  },
  {
   "cell_type": "code",
   "execution_count": 46,
   "metadata": {},
   "outputs": [
    {
     "data": {
      "text/plain": [
       "array([nan, False, True], dtype=object)"
      ]
     },
     "execution_count": 46,
     "metadata": {},
     "output_type": "execute_result"
    }
   ],
   "source": [
    "def merge_one_hot_congestion(row):\n",
    "    for col in df[['congestion_1', 'congestion_2', 'congestion_3']]:\n",
    "        if pd.notna(row[col]):\n",
    "            return row[col]\n",
    "    return float('nan')  # Return None for rows where all values are 0\n",
    "\n",
    "df['congestion'] = df.apply(merge_one_hot_congestion, axis=1)\n",
    "df['congestion'].unique()"
   ]
  },
  {
   "cell_type": "code",
   "execution_count": 47,
   "metadata": {},
   "outputs": [
    {
     "data": {
      "text/plain": [
       "array([nan, True, False], dtype=object)"
      ]
     },
     "execution_count": 47,
     "metadata": {},
     "output_type": "execute_result"
    }
   ],
   "source": [
    "def merge_one_hot_nothing(row):\n",
    "    for col in df[['nothing_1', 'nothing_2', 'nothing_3']]:\n",
    "        if pd.notna(row[col]):\n",
    "            return row[col]\n",
    "    return float('nan')  # Return None for rows where all values are 0\n",
    "\n",
    "df['nothing'] = df.apply(merge_one_hot_nothing, axis=1)\n",
    "df['nothing'].unique()"
   ]
  },
  {
   "cell_type": "code",
   "execution_count": 48,
   "metadata": {},
   "outputs": [
    {
     "data": {
      "text/plain": [
       "array([nan, 'healthy_cough', 'lower_infection', 'upper_infection',\n",
       "       'obstructive_disease', 'COVID-19'], dtype=object)"
      ]
     },
     "execution_count": 48,
     "metadata": {},
     "output_type": "execute_result"
    }
   ],
   "source": [
    "def merge_one_hot_diagnosis(row):\n",
    "    for col in df[['diagnosis_1', 'diagnosis_2', 'diagnosis_3']]:\n",
    "        if pd.notna(row[col]):\n",
    "            return row[col]\n",
    "    return float('nan')  # Return None for rows where all values are 0\n",
    "\n",
    "df['diagnosis'] = df.apply(merge_one_hot_diagnosis, axis=1)\n",
    "df['diagnosis'].unique()"
   ]
  },
  {
   "cell_type": "code",
   "execution_count": 50,
   "metadata": {},
   "outputs": [
    {
     "data": {
      "text/plain": [
       "Index(['uuid', 'datetime', 'cough_detected', 'latitude', 'longitude', 'age',\n",
       "       'gender', 'respiratory_condition', 'fever_muscle_pain', 'status',\n",
       "       'quality_1', 'cough_type_1', 'dyspnea_1', 'wheezing_1', 'stridor_1',\n",
       "       'choking_1', 'congestion_1', 'nothing_1', 'diagnosis_1', 'severity_1',\n",
       "       'quality_2', 'cough_type_2', 'dyspnea_2', 'wheezing_2', 'stridor_2',\n",
       "       'choking_2', 'congestion_2', 'nothing_2', 'diagnosis_2', 'severity_2',\n",
       "       'quality_3', 'dyspnea_3', 'wheezing_3', 'stridor_3', 'choking_3',\n",
       "       'congestion_3', 'nothing_3', 'cough_type_3', 'diagnosis_3',\n",
       "       'severity_3', 'severity', 'cough_type', 'dyspnea', 'wheezing',\n",
       "       'stridor', 'quality', 'choking', 'congestion', 'nothing', 'diagnosis'],\n",
       "      dtype='object')"
      ]
     },
     "execution_count": 50,
     "metadata": {},
     "output_type": "execute_result"
    }
   ],
   "source": [
    "df.columns"
   ]
  },
  {
   "cell_type": "code",
   "execution_count": 51,
   "metadata": {},
   "outputs": [],
   "source": [
    "df.to_csv('all_clubed.csv', index=True)"
   ]
  },
  {
   "cell_type": "code",
   "execution_count": null,
   "metadata": {},
   "outputs": [],
   "source": []
  }
 ],
 "metadata": {
  "kernelspec": {
   "display_name": "Cough",
   "language": "python",
   "name": "python3"
  },
  "language_info": {
   "codemirror_mode": {
    "name": "ipython",
    "version": 3
   },
   "file_extension": ".py",
   "mimetype": "text/x-python",
   "name": "python",
   "nbconvert_exporter": "python",
   "pygments_lexer": "ipython3",
   "version": "3.11.5"
  }
 },
 "nbformat": 4,
 "nbformat_minor": 2
}
