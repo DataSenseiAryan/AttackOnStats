{
 "cells": [
  {
   "cell_type": "code",
   "execution_count": 1,
   "metadata": {},
   "outputs": [],
   "source": [
    "import pandas as pd\n",
    "import numpy as np\n",
    "import datetime\n",
    "import librosa\n",
    "import matplotlib.pyplot as plt\n",
    "import seaborn as sns\n",
    "import os\n",
    "import pathlib\n",
    "import dask.dataframe as dd\n",
    "from dask.multiprocessing import get\n",
    "import numpy as np\n",
    "import librosa\n",
    "from scipy import signal\n",
    "from scipy.io import wavfile\n",
    "from scipy.signal import butter,filtfilt\n",
    "from scipy.stats import kurtosis\n",
    "import scipy.signal as signal\n",
    "from scipy.integrate import simps\n"
   ]
  },
  {
   "cell_type": "code",
   "execution_count": 2,
   "metadata": {},
   "outputs": [],
   "source": [
    "# x,fs= librosa.load('/home/abrol/ARYAN_MT22019/CoughVid/public_dataset/fffce9f0-a5e8-4bee-b13b-c671aac4a61c.webm')\n",
    "# f0, voiced_flag, voiced_probs = librosa.pyin(x, fmin=librosa.note_to_hz('C2'), fmax=librosa.note_to_hz('E4'))\n",
    "# # ans = extract_features(x,fs)"
   ]
  },
  {
   "cell_type": "code",
   "execution_count": 3,
   "metadata": {},
   "outputs": [],
   "source": [
    "df = pd.read_csv('/home/abrol/ARYAN_MT22019/CoughVid/public_dataset/metadata_compiled.csv')"
   ]
  },
  {
   "cell_type": "code",
   "execution_count": 4,
   "metadata": {},
   "outputs": [
    {
     "data": {
      "text/html": [
       "<div>\n",
       "<style scoped>\n",
       "    .dataframe tbody tr th:only-of-type {\n",
       "        vertical-align: middle;\n",
       "    }\n",
       "\n",
       "    .dataframe tbody tr th {\n",
       "        vertical-align: top;\n",
       "    }\n",
       "\n",
       "    .dataframe thead th {\n",
       "        text-align: right;\n",
       "    }\n",
       "</style>\n",
       "<table border=\"1\" class=\"dataframe\">\n",
       "  <thead>\n",
       "    <tr style=\"text-align: right;\">\n",
       "      <th></th>\n",
       "      <th>uuid</th>\n",
       "      <th>datetime</th>\n",
       "      <th>cough_detected</th>\n",
       "      <th>latitude</th>\n",
       "      <th>longitude</th>\n",
       "      <th>age</th>\n",
       "      <th>gender</th>\n",
       "      <th>respiratory_condition</th>\n",
       "      <th>fever_muscle_pain</th>\n",
       "      <th>status</th>\n",
       "      <th>...</th>\n",
       "      <th>quality_3</th>\n",
       "      <th>dyspnea_3</th>\n",
       "      <th>wheezing_3</th>\n",
       "      <th>stridor_3</th>\n",
       "      <th>choking_3</th>\n",
       "      <th>congestion_3</th>\n",
       "      <th>nothing_3</th>\n",
       "      <th>cough_type_3</th>\n",
       "      <th>diagnosis_3</th>\n",
       "      <th>severity_3</th>\n",
       "    </tr>\n",
       "  </thead>\n",
       "  <tbody>\n",
       "    <tr>\n",
       "      <th>0</th>\n",
       "      <td>00039425-7f3a-42aa-ac13-834aaa2b6b92</td>\n",
       "      <td>2020-04-13T21:30:59.801831+00:00</td>\n",
       "      <td>0.9609</td>\n",
       "      <td>31.3</td>\n",
       "      <td>34.8</td>\n",
       "      <td>15.0</td>\n",
       "      <td>male</td>\n",
       "      <td>False</td>\n",
       "      <td>False</td>\n",
       "      <td>healthy</td>\n",
       "      <td>...</td>\n",
       "      <td>NaN</td>\n",
       "      <td>NaN</td>\n",
       "      <td>NaN</td>\n",
       "      <td>NaN</td>\n",
       "      <td>NaN</td>\n",
       "      <td>NaN</td>\n",
       "      <td>NaN</td>\n",
       "      <td>NaN</td>\n",
       "      <td>NaN</td>\n",
       "      <td>NaN</td>\n",
       "    </tr>\n",
       "    <tr>\n",
       "      <th>1</th>\n",
       "      <td>0009eb28-d8be-4dc1-92bb-907e53bc5c7a</td>\n",
       "      <td>2020-04-12T04:02:18.159383+00:00</td>\n",
       "      <td>0.9301</td>\n",
       "      <td>40.0</td>\n",
       "      <td>-75.1</td>\n",
       "      <td>34.0</td>\n",
       "      <td>male</td>\n",
       "      <td>True</td>\n",
       "      <td>False</td>\n",
       "      <td>healthy</td>\n",
       "      <td>...</td>\n",
       "      <td>NaN</td>\n",
       "      <td>NaN</td>\n",
       "      <td>NaN</td>\n",
       "      <td>NaN</td>\n",
       "      <td>NaN</td>\n",
       "      <td>NaN</td>\n",
       "      <td>NaN</td>\n",
       "      <td>NaN</td>\n",
       "      <td>NaN</td>\n",
       "      <td>NaN</td>\n",
       "    </tr>\n",
       "    <tr>\n",
       "      <th>2</th>\n",
       "      <td>0012c608-33d0-4ef7-bde3-75a0b1a0024e</td>\n",
       "      <td>2020-04-15T01:03:59.029326+00:00</td>\n",
       "      <td>0.0482</td>\n",
       "      <td>-16.5</td>\n",
       "      <td>-71.5</td>\n",
       "      <td>NaN</td>\n",
       "      <td>NaN</td>\n",
       "      <td>NaN</td>\n",
       "      <td>NaN</td>\n",
       "      <td>NaN</td>\n",
       "      <td>...</td>\n",
       "      <td>NaN</td>\n",
       "      <td>NaN</td>\n",
       "      <td>NaN</td>\n",
       "      <td>NaN</td>\n",
       "      <td>NaN</td>\n",
       "      <td>NaN</td>\n",
       "      <td>NaN</td>\n",
       "      <td>NaN</td>\n",
       "      <td>NaN</td>\n",
       "      <td>NaN</td>\n",
       "    </tr>\n",
       "    <tr>\n",
       "      <th>3</th>\n",
       "      <td>001328dc-ea5d-4847-9ccf-c5aa2a3f2d0f</td>\n",
       "      <td>2020-04-13T22:23:06.997578+00:00</td>\n",
       "      <td>0.9968</td>\n",
       "      <td>NaN</td>\n",
       "      <td>NaN</td>\n",
       "      <td>21.0</td>\n",
       "      <td>male</td>\n",
       "      <td>False</td>\n",
       "      <td>False</td>\n",
       "      <td>healthy</td>\n",
       "      <td>...</td>\n",
       "      <td>NaN</td>\n",
       "      <td>NaN</td>\n",
       "      <td>NaN</td>\n",
       "      <td>NaN</td>\n",
       "      <td>NaN</td>\n",
       "      <td>NaN</td>\n",
       "      <td>NaN</td>\n",
       "      <td>NaN</td>\n",
       "      <td>NaN</td>\n",
       "      <td>NaN</td>\n",
       "    </tr>\n",
       "    <tr>\n",
       "      <th>4</th>\n",
       "      <td>001c85a8-cc4d-4921-9297-848be52d4715</td>\n",
       "      <td>2020-04-17T15:24:35.822355+00:00</td>\n",
       "      <td>0.0735</td>\n",
       "      <td>40.6</td>\n",
       "      <td>-3.6</td>\n",
       "      <td>NaN</td>\n",
       "      <td>NaN</td>\n",
       "      <td>NaN</td>\n",
       "      <td>NaN</td>\n",
       "      <td>NaN</td>\n",
       "      <td>...</td>\n",
       "      <td>NaN</td>\n",
       "      <td>NaN</td>\n",
       "      <td>NaN</td>\n",
       "      <td>NaN</td>\n",
       "      <td>NaN</td>\n",
       "      <td>NaN</td>\n",
       "      <td>NaN</td>\n",
       "      <td>NaN</td>\n",
       "      <td>NaN</td>\n",
       "      <td>NaN</td>\n",
       "    </tr>\n",
       "  </tbody>\n",
       "</table>\n",
       "<p>5 rows × 40 columns</p>\n",
       "</div>"
      ],
      "text/plain": [
       "                                   uuid                          datetime  \\\n",
       "0  00039425-7f3a-42aa-ac13-834aaa2b6b92  2020-04-13T21:30:59.801831+00:00   \n",
       "1  0009eb28-d8be-4dc1-92bb-907e53bc5c7a  2020-04-12T04:02:18.159383+00:00   \n",
       "2  0012c608-33d0-4ef7-bde3-75a0b1a0024e  2020-04-15T01:03:59.029326+00:00   \n",
       "3  001328dc-ea5d-4847-9ccf-c5aa2a3f2d0f  2020-04-13T22:23:06.997578+00:00   \n",
       "4  001c85a8-cc4d-4921-9297-848be52d4715  2020-04-17T15:24:35.822355+00:00   \n",
       "\n",
       "   cough_detected  latitude  longitude   age gender respiratory_condition  \\\n",
       "0          0.9609      31.3       34.8  15.0   male                 False   \n",
       "1          0.9301      40.0      -75.1  34.0   male                  True   \n",
       "2          0.0482     -16.5      -71.5   NaN    NaN                   NaN   \n",
       "3          0.9968       NaN        NaN  21.0   male                 False   \n",
       "4          0.0735      40.6       -3.6   NaN    NaN                   NaN   \n",
       "\n",
       "  fever_muscle_pain   status  ... quality_3 dyspnea_3 wheezing_3 stridor_3  \\\n",
       "0             False  healthy  ...       NaN       NaN        NaN       NaN   \n",
       "1             False  healthy  ...       NaN       NaN        NaN       NaN   \n",
       "2               NaN      NaN  ...       NaN       NaN        NaN       NaN   \n",
       "3             False  healthy  ...       NaN       NaN        NaN       NaN   \n",
       "4               NaN      NaN  ...       NaN       NaN        NaN       NaN   \n",
       "\n",
       "  choking_3 congestion_3 nothing_3 cough_type_3 diagnosis_3 severity_3  \n",
       "0       NaN          NaN       NaN          NaN         NaN        NaN  \n",
       "1       NaN          NaN       NaN          NaN         NaN        NaN  \n",
       "2       NaN          NaN       NaN          NaN         NaN        NaN  \n",
       "3       NaN          NaN       NaN          NaN         NaN        NaN  \n",
       "4       NaN          NaN       NaN          NaN         NaN        NaN  \n",
       "\n",
       "[5 rows x 40 columns]"
      ]
     },
     "execution_count": 4,
     "metadata": {},
     "output_type": "execute_result"
    }
   ],
   "source": [
    "df.head()"
   ]
  },
  {
   "cell_type": "code",
   "execution_count": 5,
   "metadata": {},
   "outputs": [],
   "source": [
    "import numpy as np\n",
    "import pandas as pd"
   ]
  },
  {
   "cell_type": "code",
   "execution_count": 6,
   "metadata": {},
   "outputs": [],
   "source": [
    "# df['datetime']\n",
    "# df.columns\n",
    "# date_string = str(df['datetime'])\n",
    "# dt = datetime.date.fromisoformat(date_string)"
   ]
  },
  {
   "cell_type": "code",
   "execution_count": 7,
   "metadata": {},
   "outputs": [],
   "source": [
    "# df['date']=pd.to_datetime(row['date']).apply(lambda t: t.replace(minute=15*(t.minute//15)))\n",
    "#                 .dt.strftime('%H:%M')\n",
    "df['date'] = pd.to_datetime(df['datetime'])"
   ]
  },
  {
   "cell_type": "code",
   "execution_count": 8,
   "metadata": {},
   "outputs": [],
   "source": [
    "df['date_issued:year'] = df['date'].dt.year\n",
    "df['date_issued:month'] = df['date'].dt.month\n",
    "df['date_issued:day'] = df['date'].dt.day\n",
    "df['date_issued:day_of_week'] = df['date'].dt.day_of_week\n",
    "df['date_issued:day_of_year'] = df['date'].dt.day_of_year"
   ]
  },
  {
   "cell_type": "code",
   "execution_count": 9,
   "metadata": {},
   "outputs": [
    {
     "data": {
      "text/html": [
       "<div>\n",
       "<style scoped>\n",
       "    .dataframe tbody tr th:only-of-type {\n",
       "        vertical-align: middle;\n",
       "    }\n",
       "\n",
       "    .dataframe tbody tr th {\n",
       "        vertical-align: top;\n",
       "    }\n",
       "\n",
       "    .dataframe thead th {\n",
       "        text-align: right;\n",
       "    }\n",
       "</style>\n",
       "<table border=\"1\" class=\"dataframe\">\n",
       "  <thead>\n",
       "    <tr style=\"text-align: right;\">\n",
       "      <th></th>\n",
       "      <th>uuid</th>\n",
       "      <th>datetime</th>\n",
       "      <th>cough_detected</th>\n",
       "      <th>latitude</th>\n",
       "      <th>longitude</th>\n",
       "      <th>age</th>\n",
       "      <th>gender</th>\n",
       "      <th>respiratory_condition</th>\n",
       "      <th>fever_muscle_pain</th>\n",
       "      <th>status</th>\n",
       "      <th>...</th>\n",
       "      <th>nothing_3</th>\n",
       "      <th>cough_type_3</th>\n",
       "      <th>diagnosis_3</th>\n",
       "      <th>severity_3</th>\n",
       "      <th>date</th>\n",
       "      <th>date_issued:year</th>\n",
       "      <th>date_issued:month</th>\n",
       "      <th>date_issued:day</th>\n",
       "      <th>date_issued:day_of_week</th>\n",
       "      <th>date_issued:day_of_year</th>\n",
       "    </tr>\n",
       "  </thead>\n",
       "  <tbody>\n",
       "    <tr>\n",
       "      <th>0</th>\n",
       "      <td>00039425-7f3a-42aa-ac13-834aaa2b6b92</td>\n",
       "      <td>2020-04-13T21:30:59.801831+00:00</td>\n",
       "      <td>0.9609</td>\n",
       "      <td>31.3</td>\n",
       "      <td>34.8</td>\n",
       "      <td>15.0</td>\n",
       "      <td>male</td>\n",
       "      <td>False</td>\n",
       "      <td>False</td>\n",
       "      <td>healthy</td>\n",
       "      <td>...</td>\n",
       "      <td>NaN</td>\n",
       "      <td>NaN</td>\n",
       "      <td>NaN</td>\n",
       "      <td>NaN</td>\n",
       "      <td>2020-04-13 21:30:59.801831+00:00</td>\n",
       "      <td>2020</td>\n",
       "      <td>4</td>\n",
       "      <td>13</td>\n",
       "      <td>0</td>\n",
       "      <td>104</td>\n",
       "    </tr>\n",
       "    <tr>\n",
       "      <th>1</th>\n",
       "      <td>0009eb28-d8be-4dc1-92bb-907e53bc5c7a</td>\n",
       "      <td>2020-04-12T04:02:18.159383+00:00</td>\n",
       "      <td>0.9301</td>\n",
       "      <td>40.0</td>\n",
       "      <td>-75.1</td>\n",
       "      <td>34.0</td>\n",
       "      <td>male</td>\n",
       "      <td>True</td>\n",
       "      <td>False</td>\n",
       "      <td>healthy</td>\n",
       "      <td>...</td>\n",
       "      <td>NaN</td>\n",
       "      <td>NaN</td>\n",
       "      <td>NaN</td>\n",
       "      <td>NaN</td>\n",
       "      <td>2020-04-12 04:02:18.159383+00:00</td>\n",
       "      <td>2020</td>\n",
       "      <td>4</td>\n",
       "      <td>12</td>\n",
       "      <td>6</td>\n",
       "      <td>103</td>\n",
       "    </tr>\n",
       "    <tr>\n",
       "      <th>2</th>\n",
       "      <td>0012c608-33d0-4ef7-bde3-75a0b1a0024e</td>\n",
       "      <td>2020-04-15T01:03:59.029326+00:00</td>\n",
       "      <td>0.0482</td>\n",
       "      <td>-16.5</td>\n",
       "      <td>-71.5</td>\n",
       "      <td>NaN</td>\n",
       "      <td>NaN</td>\n",
       "      <td>NaN</td>\n",
       "      <td>NaN</td>\n",
       "      <td>NaN</td>\n",
       "      <td>...</td>\n",
       "      <td>NaN</td>\n",
       "      <td>NaN</td>\n",
       "      <td>NaN</td>\n",
       "      <td>NaN</td>\n",
       "      <td>2020-04-15 01:03:59.029326+00:00</td>\n",
       "      <td>2020</td>\n",
       "      <td>4</td>\n",
       "      <td>15</td>\n",
       "      <td>2</td>\n",
       "      <td>106</td>\n",
       "    </tr>\n",
       "    <tr>\n",
       "      <th>3</th>\n",
       "      <td>001328dc-ea5d-4847-9ccf-c5aa2a3f2d0f</td>\n",
       "      <td>2020-04-13T22:23:06.997578+00:00</td>\n",
       "      <td>0.9968</td>\n",
       "      <td>NaN</td>\n",
       "      <td>NaN</td>\n",
       "      <td>21.0</td>\n",
       "      <td>male</td>\n",
       "      <td>False</td>\n",
       "      <td>False</td>\n",
       "      <td>healthy</td>\n",
       "      <td>...</td>\n",
       "      <td>NaN</td>\n",
       "      <td>NaN</td>\n",
       "      <td>NaN</td>\n",
       "      <td>NaN</td>\n",
       "      <td>2020-04-13 22:23:06.997578+00:00</td>\n",
       "      <td>2020</td>\n",
       "      <td>4</td>\n",
       "      <td>13</td>\n",
       "      <td>0</td>\n",
       "      <td>104</td>\n",
       "    </tr>\n",
       "    <tr>\n",
       "      <th>4</th>\n",
       "      <td>001c85a8-cc4d-4921-9297-848be52d4715</td>\n",
       "      <td>2020-04-17T15:24:35.822355+00:00</td>\n",
       "      <td>0.0735</td>\n",
       "      <td>40.6</td>\n",
       "      <td>-3.6</td>\n",
       "      <td>NaN</td>\n",
       "      <td>NaN</td>\n",
       "      <td>NaN</td>\n",
       "      <td>NaN</td>\n",
       "      <td>NaN</td>\n",
       "      <td>...</td>\n",
       "      <td>NaN</td>\n",
       "      <td>NaN</td>\n",
       "      <td>NaN</td>\n",
       "      <td>NaN</td>\n",
       "      <td>2020-04-17 15:24:35.822355+00:00</td>\n",
       "      <td>2020</td>\n",
       "      <td>4</td>\n",
       "      <td>17</td>\n",
       "      <td>4</td>\n",
       "      <td>108</td>\n",
       "    </tr>\n",
       "  </tbody>\n",
       "</table>\n",
       "<p>5 rows × 46 columns</p>\n",
       "</div>"
      ],
      "text/plain": [
       "                                   uuid                          datetime  \\\n",
       "0  00039425-7f3a-42aa-ac13-834aaa2b6b92  2020-04-13T21:30:59.801831+00:00   \n",
       "1  0009eb28-d8be-4dc1-92bb-907e53bc5c7a  2020-04-12T04:02:18.159383+00:00   \n",
       "2  0012c608-33d0-4ef7-bde3-75a0b1a0024e  2020-04-15T01:03:59.029326+00:00   \n",
       "3  001328dc-ea5d-4847-9ccf-c5aa2a3f2d0f  2020-04-13T22:23:06.997578+00:00   \n",
       "4  001c85a8-cc4d-4921-9297-848be52d4715  2020-04-17T15:24:35.822355+00:00   \n",
       "\n",
       "   cough_detected  latitude  longitude   age gender respiratory_condition  \\\n",
       "0          0.9609      31.3       34.8  15.0   male                 False   \n",
       "1          0.9301      40.0      -75.1  34.0   male                  True   \n",
       "2          0.0482     -16.5      -71.5   NaN    NaN                   NaN   \n",
       "3          0.9968       NaN        NaN  21.0   male                 False   \n",
       "4          0.0735      40.6       -3.6   NaN    NaN                   NaN   \n",
       "\n",
       "  fever_muscle_pain   status  ... nothing_3 cough_type_3 diagnosis_3  \\\n",
       "0             False  healthy  ...       NaN          NaN         NaN   \n",
       "1             False  healthy  ...       NaN          NaN         NaN   \n",
       "2               NaN      NaN  ...       NaN          NaN         NaN   \n",
       "3             False  healthy  ...       NaN          NaN         NaN   \n",
       "4               NaN      NaN  ...       NaN          NaN         NaN   \n",
       "\n",
       "  severity_3                             date date_issued:year  \\\n",
       "0        NaN 2020-04-13 21:30:59.801831+00:00             2020   \n",
       "1        NaN 2020-04-12 04:02:18.159383+00:00             2020   \n",
       "2        NaN 2020-04-15 01:03:59.029326+00:00             2020   \n",
       "3        NaN 2020-04-13 22:23:06.997578+00:00             2020   \n",
       "4        NaN 2020-04-17 15:24:35.822355+00:00             2020   \n",
       "\n",
       "  date_issued:month date_issued:day date_issued:day_of_week  \\\n",
       "0                 4              13                       0   \n",
       "1                 4              12                       6   \n",
       "2                 4              15                       2   \n",
       "3                 4              13                       0   \n",
       "4                 4              17                       4   \n",
       "\n",
       "  date_issued:day_of_year  \n",
       "0                     104  \n",
       "1                     103  \n",
       "2                     106  \n",
       "3                     104  \n",
       "4                     108  \n",
       "\n",
       "[5 rows x 46 columns]"
      ]
     },
     "execution_count": 9,
     "metadata": {},
     "output_type": "execute_result"
    }
   ],
   "source": [
    "df.head()"
   ]
  },
  {
   "cell_type": "code",
   "execution_count": 10,
   "metadata": {},
   "outputs": [],
   "source": [
    "def get_time_interval(hour):\n",
    "    if 5 <= hour < 12:\n",
    "        return 'Morning'\n",
    "    elif 12 <= hour < 16:\n",
    "        return 'Afternoon'\n",
    "    elif 16<= hour <20:\n",
    "        return 'Evening'\n",
    "    else: \n",
    "        return 'Night'\n",
    "\n",
    "df['TimeOfDay'] = df['date'].dt.hour.apply(get_time_interval)\n"
   ]
  },
  {
   "cell_type": "code",
   "execution_count": 11,
   "metadata": {},
   "outputs": [],
   "source": [
    "def categorize_age(age):\n",
    "    if age < 18:\n",
    "        return 'Children'\n",
    "    elif 18 <= age < 60:\n",
    "        return 'Adults'\n",
    "    else:\n",
    "        return 'Seniors'\n",
    "\n",
    "# Create a new column \"AgeGroup\" based on the age categories\n",
    "df['AgeGroup'] = df['age'].apply(categorize_age)"
   ]
  },
  {
   "cell_type": "code",
   "execution_count": 12,
   "metadata": {},
   "outputs": [],
   "source": [
    "from sklearn.cluster import KMeans\n",
    "from sklearn.preprocessing import StandardScaler\n",
    "import matplotlib.pyplot as plt"
   ]
  },
  {
   "cell_type": "code",
   "execution_count": 13,
   "metadata": {},
   "outputs": [
    {
     "data": {
      "text/plain": [
       "Index(['uuid', 'datetime', 'cough_detected', 'latitude', 'longitude', 'age',\n",
       "       'gender', 'respiratory_condition', 'fever_muscle_pain', 'status',\n",
       "       'quality_1', 'cough_type_1', 'dyspnea_1', 'wheezing_1', 'stridor_1',\n",
       "       'choking_1', 'congestion_1', 'nothing_1', 'diagnosis_1', 'severity_1',\n",
       "       'quality_2', 'cough_type_2', 'dyspnea_2', 'wheezing_2', 'stridor_2',\n",
       "       'choking_2', 'congestion_2', 'nothing_2', 'diagnosis_2', 'severity_2',\n",
       "       'quality_3', 'dyspnea_3', 'wheezing_3', 'stridor_3', 'choking_3',\n",
       "       'congestion_3', 'nothing_3', 'cough_type_3', 'diagnosis_3',\n",
       "       'severity_3', 'date', 'date_issued:year', 'date_issued:month',\n",
       "       'date_issued:day', 'date_issued:day_of_week', 'date_issued:day_of_year',\n",
       "       'TimeOfDay', 'AgeGroup'],\n",
       "      dtype='object')"
      ]
     },
     "execution_count": 13,
     "metadata": {},
     "output_type": "execute_result"
    }
   ],
   "source": [
    "df.columns"
   ]
  },
  {
   "cell_type": "code",
   "execution_count": 14,
   "metadata": {},
   "outputs": [],
   "source": [
    "Coordinate_clean_data = df.dropna(subset=['latitude', 'longitude', 'cough_detected', 'status'], inplace=False)"
   ]
  },
  {
   "cell_type": "code",
   "execution_count": 15,
   "metadata": {},
   "outputs": [
    {
     "name": "stderr",
     "output_type": "stream",
     "text": [
      "/home/abrol/miniconda3/envs/Cough/lib/python3.11/site-packages/sklearn/cluster/_kmeans.py:1412: FutureWarning: The default value of `n_init` will change from 10 to 'auto' in 1.4. Set the value of `n_init` explicitly to suppress the warning\n",
      "  super()._check_params_vs_input(X, default_n_init=10)\n",
      "/home/abrol/miniconda3/envs/Cough/lib/python3.11/site-packages/sklearn/cluster/_kmeans.py:1412: FutureWarning: The default value of `n_init` will change from 10 to 'auto' in 1.4. Set the value of `n_init` explicitly to suppress the warning\n",
      "  super()._check_params_vs_input(X, default_n_init=10)\n",
      "/home/abrol/miniconda3/envs/Cough/lib/python3.11/site-packages/sklearn/cluster/_kmeans.py:1412: FutureWarning: The default value of `n_init` will change from 10 to 'auto' in 1.4. Set the value of `n_init` explicitly to suppress the warning\n",
      "  super()._check_params_vs_input(X, default_n_init=10)\n",
      "/home/abrol/miniconda3/envs/Cough/lib/python3.11/site-packages/sklearn/cluster/_kmeans.py:1412: FutureWarning: The default value of `n_init` will change from 10 to 'auto' in 1.4. Set the value of `n_init` explicitly to suppress the warning\n",
      "  super()._check_params_vs_input(X, default_n_init=10)\n",
      "/home/abrol/miniconda3/envs/Cough/lib/python3.11/site-packages/sklearn/cluster/_kmeans.py:1412: FutureWarning: The default value of `n_init` will change from 10 to 'auto' in 1.4. Set the value of `n_init` explicitly to suppress the warning\n",
      "  super()._check_params_vs_input(X, default_n_init=10)\n",
      "/home/abrol/miniconda3/envs/Cough/lib/python3.11/site-packages/sklearn/cluster/_kmeans.py:1412: FutureWarning: The default value of `n_init` will change from 10 to 'auto' in 1.4. Set the value of `n_init` explicitly to suppress the warning\n",
      "  super()._check_params_vs_input(X, default_n_init=10)\n",
      "/home/abrol/miniconda3/envs/Cough/lib/python3.11/site-packages/sklearn/cluster/_kmeans.py:1412: FutureWarning: The default value of `n_init` will change from 10 to 'auto' in 1.4. Set the value of `n_init` explicitly to suppress the warning\n",
      "  super()._check_params_vs_input(X, default_n_init=10)\n",
      "/home/abrol/miniconda3/envs/Cough/lib/python3.11/site-packages/sklearn/cluster/_kmeans.py:1412: FutureWarning: The default value of `n_init` will change from 10 to 'auto' in 1.4. Set the value of `n_init` explicitly to suppress the warning\n",
      "  super()._check_params_vs_input(X, default_n_init=10)\n",
      "/home/abrol/miniconda3/envs/Cough/lib/python3.11/site-packages/sklearn/cluster/_kmeans.py:1412: FutureWarning: The default value of `n_init` will change from 10 to 'auto' in 1.4. Set the value of `n_init` explicitly to suppress the warning\n",
      "  super()._check_params_vs_input(X, default_n_init=10)\n",
      "/home/abrol/miniconda3/envs/Cough/lib/python3.11/site-packages/sklearn/cluster/_kmeans.py:1412: FutureWarning: The default value of `n_init` will change from 10 to 'auto' in 1.4. Set the value of `n_init` explicitly to suppress the warning\n",
      "  super()._check_params_vs_input(X, default_n_init=10)\n",
      "/home/abrol/miniconda3/envs/Cough/lib/python3.11/site-packages/sklearn/cluster/_kmeans.py:1412: FutureWarning: The default value of `n_init` will change from 10 to 'auto' in 1.4. Set the value of `n_init` explicitly to suppress the warning\n",
      "  super()._check_params_vs_input(X, default_n_init=10)\n",
      "/home/abrol/miniconda3/envs/Cough/lib/python3.11/site-packages/sklearn/cluster/_kmeans.py:1412: FutureWarning: The default value of `n_init` will change from 10 to 'auto' in 1.4. Set the value of `n_init` explicitly to suppress the warning\n",
      "  super()._check_params_vs_input(X, default_n_init=10)\n",
      "/home/abrol/miniconda3/envs/Cough/lib/python3.11/site-packages/sklearn/cluster/_kmeans.py:1412: FutureWarning: The default value of `n_init` will change from 10 to 'auto' in 1.4. Set the value of `n_init` explicitly to suppress the warning\n",
      "  super()._check_params_vs_input(X, default_n_init=10)\n",
      "/home/abrol/miniconda3/envs/Cough/lib/python3.11/site-packages/sklearn/cluster/_kmeans.py:1412: FutureWarning: The default value of `n_init` will change from 10 to 'auto' in 1.4. Set the value of `n_init` explicitly to suppress the warning\n",
      "  super()._check_params_vs_input(X, default_n_init=10)\n",
      "/home/abrol/miniconda3/envs/Cough/lib/python3.11/site-packages/sklearn/cluster/_kmeans.py:1412: FutureWarning: The default value of `n_init` will change from 10 to 'auto' in 1.4. Set the value of `n_init` explicitly to suppress the warning\n",
      "  super()._check_params_vs_input(X, default_n_init=10)\n",
      "/home/abrol/miniconda3/envs/Cough/lib/python3.11/site-packages/sklearn/cluster/_kmeans.py:1412: FutureWarning: The default value of `n_init` will change from 10 to 'auto' in 1.4. Set the value of `n_init` explicitly to suppress the warning\n",
      "  super()._check_params_vs_input(X, default_n_init=10)\n",
      "/home/abrol/miniconda3/envs/Cough/lib/python3.11/site-packages/sklearn/cluster/_kmeans.py:1412: FutureWarning: The default value of `n_init` will change from 10 to 'auto' in 1.4. Set the value of `n_init` explicitly to suppress the warning\n",
      "  super()._check_params_vs_input(X, default_n_init=10)\n",
      "/home/abrol/miniconda3/envs/Cough/lib/python3.11/site-packages/sklearn/cluster/_kmeans.py:1412: FutureWarning: The default value of `n_init` will change from 10 to 'auto' in 1.4. Set the value of `n_init` explicitly to suppress the warning\n",
      "  super()._check_params_vs_input(X, default_n_init=10)\n",
      "/home/abrol/miniconda3/envs/Cough/lib/python3.11/site-packages/sklearn/cluster/_kmeans.py:1412: FutureWarning: The default value of `n_init` will change from 10 to 'auto' in 1.4. Set the value of `n_init` explicitly to suppress the warning\n",
      "  super()._check_params_vs_input(X, default_n_init=10)\n"
     ]
    }
   ],
   "source": [
    "coordinates = Coordinate_clean_data[['latitude', 'longitude']]\n",
    "scaler = StandardScaler()\n",
    "scaled_coordinates = scaler.fit_transform(coordinates)\n",
    "wcss = []  # Within-Cluster-Sum-of-Squares\n",
    "for k in range(1, 20):\n",
    "    kmeans = KMeans(n_clusters=k, random_state=0)\n",
    "    kmeans.fit(scaled_coordinates)\n",
    "    wcss.append(kmeans.inertia_)"
   ]
  },
  {
   "cell_type": "code",
   "execution_count": 16,
   "metadata": {},
   "outputs": [
    {
     "data": {
      "image/png": "[encoded data removed]",
      "text/plain": [
       "<Figure size 640x480 with 1 Axes>"
      ]
     },
     "metadata": {},
     "output_type": "display_data"
    }
   ],
   "source": [
    "# Plot the Elbow graph to choose K\n",
    "plt.plot(range(1, 20), wcss)\n",
    "plt.xlabel('Number of Clusters')\n",
    "plt.ylabel('WCSS')\n",
    "plt.show()\n"
   ]
  },
  {
   "cell_type": "code",
   "execution_count": 17,
   "metadata": {},
   "outputs": [
    {
     "name": "stderr",
     "output_type": "stream",
     "text": [
      "/home/abrol/miniconda3/envs/Cough/lib/python3.11/site-packages/sklearn/cluster/_kmeans.py:1412: FutureWarning: The default value of `n_init` will change from 10 to 'auto' in 1.4. Set the value of `n_init` explicitly to suppress the warning\n",
      "  super()._check_params_vs_input(X, default_n_init=10)\n",
      "/tmp/ipykernel_476746/2318274327.py:3: SettingWithCopyWarning: \n",
      "A value is trying to be set on a copy of a slice from a DataFrame.\n",
      "Try using .loc[row_indexer,col_indexer] = value instead\n",
      "\n",
      "See the caveats in the documentation: https://pandas.pydata.org/pandas-docs/stable/user_guide/indexing.html#returning-a-view-versus-a-copy\n",
      "  coordinates['Cluster'] = kmeans.fit_predict(scaled_coordinates)\n"
     ]
    }
   ],
   "source": [
    "k = 5\n",
    "kmeans = KMeans(n_clusters=k, random_state=0)\n",
    "coordinates['Cluster'] = kmeans.fit_predict(scaled_coordinates)"
   ]
  },
  {
   "cell_type": "code",
   "execution_count": 18,
   "metadata": {},
   "outputs": [
    {
     "name": "stdout",
     "output_type": "stream",
     "text": [
      "           Cluster 0 - Mean  Cluster 0 - Median  Cluster 0 - Std Dev  \\\n",
      "latitude          41.853187                41.0             5.491405   \n",
      "longitude         13.684136                 7.4            15.506127   \n",
      "Cluster            0.000000                 0.0             0.000000   \n",
      "\n",
      "           Cluster 1 - Mean  Cluster 1 - Median  Cluster 1 - Std Dev  \\\n",
      "latitude           2.695161                4.25            13.315169   \n",
      "longitude         86.760484               80.60            31.898513   \n",
      "Cluster            1.000000                1.00             0.000000   \n",
      "\n",
      "           Cluster 2 - Mean  Cluster 2 - Median  Cluster 2 - Std Dev  \\\n",
      "latitude         -17.370261               -17.2            13.677236   \n",
      "longitude        -60.310308               -62.7            20.253698   \n",
      "Cluster            2.000000                 2.0             0.000000   \n",
      "\n",
      "           Cluster 3 - Mean  Cluster 3 - Median  Cluster 3 - Std Dev  \\\n",
      "latitude          32.222887                34.8            10.952734   \n",
      "longitude        -89.096619               -84.7            16.771162   \n",
      "Cluster            3.000000                 3.0             0.000000   \n",
      "\n",
      "           Cluster 4 - Mean  Cluster 4 - Median  Cluster 4 - Std Dev  \n",
      "latitude          38.536694               40.25             4.979415  \n",
      "longitude         68.077742               67.80            14.735590  \n",
      "Cluster            4.000000                4.00             0.000000  \n"
     ]
    }
   ],
   "source": [
    "from pprint import pprint \n",
    "cluster_stats = pd.DataFrame()\n",
    "\n",
    "# Analyze clustering statistics for each column within each cluster\n",
    "for cluster in range(5):\n",
    "    cluster_data = coordinates[coordinates['Cluster'] == cluster]\n",
    "    cluster_stats['Cluster ' + str(cluster) + ' - Mean'] = cluster_data.mean()\n",
    "    cluster_stats['Cluster ' + str(cluster) + ' - Median'] = cluster_data.median()\n",
    "    cluster_stats['Cluster ' + str(cluster) + ' - Std Dev'] = cluster_data.std()\n",
    "    # You can add more statistics as needed\n",
    "\n",
    "# Display the clustering statistics DataFrame\n",
    "pprint(cluster_stats)"
   ]
  },
  {
   "cell_type": "code",
   "execution_count": 19,
   "metadata": {},
   "outputs": [],
   "source": [
    "# path = '/home/abrol/ARYAN_MT22019/CoughVid/public_dataset/'"
   ]
  },
  {
   "cell_type": "code",
   "execution_count": 20,
   "metadata": {},
   "outputs": [],
   "source": [
    "# #Number of audio files in the dataset\n",
    "# dataset_directory = '/home/abrol/ARYAN_MT22019/CoughVid/public_dataset/'\n",
    "\n",
    "# audio_files = [os.path.join(dataset_directory, file) for file in os.listdir(dataset_directory) if file.endswith('.webm')]\n",
    "\n",
    "# num_audio_samples = len(audio_files)\n",
    "\n",
    "# print(\"Number of audio samples in the dataset:\", num_audio_samples)"
   ]
  },
  {
   "cell_type": "code",
   "execution_count": 21,
   "metadata": {},
   "outputs": [],
   "source": [
    "# # length of each file:\n",
    "# duration_list = []\n",
    "# sampling_rate = []\n",
    "# for audio_file in audio_files:\n",
    "#     # Load the audio file\n",
    "#     y, sr = librosa.load(audio_file)\n",
    "#     # Calculate the duration in seconds\n",
    "#     duration = librosa.get_duration(y=y, sr=sr)\n",
    "\n",
    "#     duration_list.append(duration)\n",
    "#     sampling_rate.append(y)\n",
    "    \n"
   ]
  },
  {
   "cell_type": "code",
   "execution_count": 22,
   "metadata": {},
   "outputs": [],
   "source": [
    "# df['date']"
   ]
  },
  {
   "cell_type": "code",
   "execution_count": 23,
   "metadata": {},
   "outputs": [],
   "source": [
    "import time\n",
    "import requests\n",
    " \n",
    "# my_datetime = datetime.date(2021, 8, 6)\n",
    "# print(\"Unix_Time: \",\n",
    "#       (time.mktime(my_datetime.timetuple())))"
   ]
  },
  {
   "cell_type": "code",
   "execution_count": 24,
   "metadata": {},
   "outputs": [],
   "source": [
    "# api_key = \"b496319a48891f3b8be25316cea3f7e5\"\n",
    "# latitude = \"48.858844\"  # Paris\n",
    "# longitude = \"2.294351\"  # Paris\n",
    "# date = \"2023-04-15\"\n",
    "\n",
    "# # Request historical weather data from OpenWeatherMap\n",
    "# url = f\"http://history.openweathermap.org/data/2.5/history/city?lat={latitude}&lon={longitude}&start={date}&end={date}&appid={api_key}\"\n",
    "# response = requests.get(url)\n",
    "# print(response)"
   ]
  },
  {
   "cell_type": "code",
   "execution_count": 25,
   "metadata": {},
   "outputs": [],
   "source": [
    "# api_key = \"b496319a48891f3b8be25316cea3f7e5\"\n",
    "# for i in range(len(df['date'])):\n",
    "#     my_datetime = datetime.date(df['date_issued:year'][i], df['date_issued:month'][i], df['date_issued:day'][i])\n",
    "#     time_ = time.mktime(my_datetime.timetuple())\n",
    "#     latitude = df[\"latitude\"]  # Paris\n",
    "#     longitude = df[\"longitude\"] \n",
    "#     response = requests.get(url)\n",
    "#     print(response)"
   ]
  },
  {
   "cell_type": "code",
   "execution_count": 26,
   "metadata": {},
   "outputs": [],
   "source": [
    "def season(date, latitude):\n",
    "    ''' date is a datetime object\n",
    "        hemisphere is either 'north' or 'south', dependent on long/lat.\n",
    "    '''\n",
    "    if latitude<=0:\n",
    "        hemisphere = 'south'\n",
    "    else: \n",
    "        hemisphere = 'north'\n",
    "    md = date.month * 100 + date.day\n",
    "\n",
    "    if ((md > 320) and (md < 621)):\n",
    "        s = 0 #spring\n",
    "    elif ((md > 620) and (md < 923)):\n",
    "        s = 1 #summer\n",
    "    elif ((md > 922) and (md < 1223)):\n",
    "        s = 2 #fall\n",
    "    else:\n",
    "        s = 3 #winter\n",
    "\n",
    "    if hemisphere != 'north':\n",
    "        if s < 2:\n",
    "            s += 2 \n",
    "        else:\n",
    "            s -= 2\n",
    "\n",
    "    return s"
   ]
  },
  {
   "cell_type": "code",
   "execution_count": 27,
   "metadata": {},
   "outputs": [
    {
     "name": "stderr",
     "output_type": "stream",
     "text": [
      "/tmp/ipykernel_476746/3495311465.py:3: SettingWithCopyWarning: \n",
      "A value is trying to be set on a copy of a slice from a DataFrame\n",
      "\n",
      "See the caveats in the documentation: https://pandas.pydata.org/pandas-docs/stable/user_guide/indexing.html#returning-a-view-versus-a-copy\n",
      "  df['Season'][i]  = season(df['date'][i], df['latitude'][i])\n"
     ]
    }
   ],
   "source": [
    "df[\"Season\"] = -1\n",
    "for i in range(len(df)):\n",
    "    df['Season'][i]  = season(df['date'][i], df['latitude'][i])\n",
    "\n",
    "df[\"Season\"].replace({0:\"Spring\",\n",
    "                      1:\"Summer\",\n",
    "                      2:\"Fall\",\n",
    "                      3:\"winter\"}, inplace=True )   "
   ]
  },
  {
   "cell_type": "code",
   "execution_count": 28,
   "metadata": {},
   "outputs": [
    {
     "data": {
      "text/html": [
       "<div>\n",
       "<style scoped>\n",
       "    .dataframe tbody tr th:only-of-type {\n",
       "        vertical-align: middle;\n",
       "    }\n",
       "\n",
       "    .dataframe tbody tr th {\n",
       "        vertical-align: top;\n",
       "    }\n",
       "\n",
       "    .dataframe thead th {\n",
       "        text-align: right;\n",
       "    }\n",
       "</style>\n",
       "<table border=\"1\" class=\"dataframe\">\n",
       "  <thead>\n",
       "    <tr style=\"text-align: right;\">\n",
       "      <th></th>\n",
       "      <th>status</th>\n",
       "      <th>cough_detected</th>\n",
       "    </tr>\n",
       "  </thead>\n",
       "  <tbody>\n",
       "    <tr>\n",
       "      <th>0</th>\n",
       "      <td>healthy</td>\n",
       "      <td>0.9609</td>\n",
       "    </tr>\n",
       "    <tr>\n",
       "      <th>1</th>\n",
       "      <td>healthy</td>\n",
       "      <td>0.9301</td>\n",
       "    </tr>\n",
       "    <tr>\n",
       "      <th>2</th>\n",
       "      <td>NaN</td>\n",
       "      <td>0.0482</td>\n",
       "    </tr>\n",
       "    <tr>\n",
       "      <th>3</th>\n",
       "      <td>healthy</td>\n",
       "      <td>0.9968</td>\n",
       "    </tr>\n",
       "    <tr>\n",
       "      <th>4</th>\n",
       "      <td>NaN</td>\n",
       "      <td>0.0735</td>\n",
       "    </tr>\n",
       "    <tr>\n",
       "      <th>...</th>\n",
       "      <td>...</td>\n",
       "      <td>...</td>\n",
       "    </tr>\n",
       "    <tr>\n",
       "      <th>20067</th>\n",
       "      <td>healthy</td>\n",
       "      <td>0.7154</td>\n",
       "    </tr>\n",
       "    <tr>\n",
       "      <th>20068</th>\n",
       "      <td>symptomatic</td>\n",
       "      <td>0.5257</td>\n",
       "    </tr>\n",
       "    <tr>\n",
       "      <th>20069</th>\n",
       "      <td>NaN</td>\n",
       "      <td>0.1945</td>\n",
       "    </tr>\n",
       "    <tr>\n",
       "      <th>20070</th>\n",
       "      <td>healthy</td>\n",
       "      <td>0.0243</td>\n",
       "    </tr>\n",
       "    <tr>\n",
       "      <th>20071</th>\n",
       "      <td>NaN</td>\n",
       "      <td>0.9754</td>\n",
       "    </tr>\n",
       "  </tbody>\n",
       "</table>\n",
       "<p>20072 rows × 2 columns</p>\n",
       "</div>"
      ],
      "text/plain": [
       "            status  cough_detected\n",
       "0          healthy          0.9609\n",
       "1          healthy          0.9301\n",
       "2              NaN          0.0482\n",
       "3          healthy          0.9968\n",
       "4              NaN          0.0735\n",
       "...            ...             ...\n",
       "20067      healthy          0.7154\n",
       "20068  symptomatic          0.5257\n",
       "20069          NaN          0.1945\n",
       "20070      healthy          0.0243\n",
       "20071          NaN          0.9754\n",
       "\n",
       "[20072 rows x 2 columns]"
      ]
     },
     "execution_count": 28,
     "metadata": {},
     "output_type": "execute_result"
    }
   ],
   "source": [
    "df[[\"status\", \"cough_detected\"]]"
   ]
  },
  {
   "cell_type": "code",
   "execution_count": null,
   "metadata": {},
   "outputs": [],
   "source": []
  },
  {
   "cell_type": "code",
   "execution_count": 29,
   "metadata": {},
   "outputs": [],
   "source": [
    "# https://history.openweathermap.org/data/2.5/history/city?lat={lat}&lon={lon}&type=hour&start={start}&end={end}&appid={API key}"
   ]
  },
  {
   "cell_type": "code",
   "execution_count": 30,
   "metadata": {},
   "outputs": [],
   "source": [
    "# import requests\n",
    "\n",
    "# # Replace with your OpenWeatherMap API key\n",
    "# api_key = \"b496319a48891f3b8be25316cea3f7e5\"\n",
    "\n",
    "# # Replace with the latitude, longitude, and date you want to query\n",
    "# latitude = \"38.536694\"  # Paris\n",
    "# longitude = \"68.077742\"  # Paris\n",
    "# date = time_\n",
    "\n",
    "# # Request historical weather data from OpenWeatherMap\n",
    "# url = f\"http://history.openweathermap.org/data/2.5/history/city?lat={latitude}&lon={longitude}&start={date}&end={date}&appid={api_key}\"\n",
    "# response = requests.get(url)\n",
    "# print(response)\n",
    "\n",
    "# # if response.status_code == 200:\n",
    "# #     weather_data = response.json()\n",
    "    \n",
    "# #     # Extract and analyze relevant weather data to determine the season\n",
    "# #     temperature = weather_data['list'][0]['main']['temp']\n",
    "# #     daylight_hours = weather_data['list'][0]['daylight']\n",
    "# #     precipitation = weather_data['list'][0]['rain']\n",
    "\n",
    "# #     # Based on the extracted data, make an educated guess about the season\n",
    "# #     season = \"Spring\"  # You can implement the season determination logic here\n",
    "# #     print(f\"Season on Earth: {season}\")\n",
    "# # else:\n",
    "# #     print(f\"Failed to retrieve weather data. Status code: {response.status_code}\")\n"
   ]
  },
  {
   "cell_type": "code",
   "execution_count": 31,
   "metadata": {},
   "outputs": [],
   "source": [
    "####### Hypothesis Testing ###########"
   ]
  },
  {
   "cell_type": "code",
   "execution_count": 32,
   "metadata": {},
   "outputs": [],
   "source": [
    "gender_status_df= df.dropna(subset=[ 'gender', 'status'], inplace=False)[['gender', 'status']]"
   ]
  },
  {
   "cell_type": "code",
   "execution_count": 47,
   "metadata": {},
   "outputs": [
    {
     "data": {
      "text/plain": [
       "gender  status     \n",
       "male    healthy        0.496641\n",
       "female  healthy        0.255789\n",
       "male    symptomatic    0.095192\n",
       "female  symptomatic    0.057981\n",
       "male    COVID-19       0.046845\n",
       "female  COVID-19       0.039862\n",
       "other   healthy        0.004331\n",
       "        COVID-19       0.002563\n",
       "        symptomatic    0.000795\n",
       "Name: proportion, dtype: float64"
      ]
     },
     "execution_count": 47,
     "metadata": {},
     "output_type": "execute_result"
    }
   ],
   "source": [
    "gender_status_df.value_counts(normalize=True)"
   ]
  },
  {
   "cell_type": "code",
   "execution_count": 33,
   "metadata": {},
   "outputs": [
    {
     "name": "stdout",
     "output_type": "stream",
     "text": [
      "Null Hypothesis (H0): There is no substantial relationship between the two variables.\n",
      "Alternative Hypothesis (H1): There is a substantial relationship between variables.\n"
     ]
    }
   ],
   "source": [
    "print(\"Null Hypothesis (H0): There is no substantial relationship between the two variables.\")  \n",
    "print(\"Alternative Hypothesis (H1): There is a substantial relationship between variables.\")\n"
   ]
  },
  {
   "cell_type": "code",
   "execution_count": 34,
   "metadata": {},
   "outputs": [
    {
     "name": "stdout",
     "output_type": "stream",
     "text": [
      "contingency_table :\n",
      " status  COVID-19  healthy  symptomatic\n",
      "gender                                \n",
      "female       451     2894          656\n",
      "male         530     5619         1077\n",
      "other         29       49            9\n",
      "chi2 statistic:     122.77\n",
      "p-value:            1.3675e-25\n",
      "degrees of freedom: 4\n",
      "expected frequencies:\n",
      " [[ 357.16899417 3027.80289906  616.02810677]\n",
      " [ 645.06452183 5468.35884745 1112.57663072]\n",
      " [   7.766484     65.83825349   13.39526251]]\n",
      "Reject H0: There is a realtion between two variables\n"
     ]
    }
   ],
   "source": [
    "import pandas as pd\n",
    "import numpy as np\n",
    "import scipy.stats\n",
    "from scipy.stats import chi2\n",
    "\n",
    "data = gender_status_df\n",
    "data.shape\n",
    "ct_table_ind=pd.crosstab(data[\"gender\"],data[\"status\"])\n",
    "print('contingency_table :\\n',ct_table_ind)\n",
    "chi2_stat, p, dof, expected = scipy.stats.chi2_contingency(ct_table_ind)\n",
    "print(f\"chi2 statistic:     {chi2_stat:.5g}\")\n",
    "print(f\"p-value:            {p:.5g}\")\n",
    "print(f\"degrees of freedom: {dof}\")\n",
    "print(\"expected frequencies:\\n\",expected)\n",
    "\n",
    "alpha = 0.05\n",
    "print(chi2_stat)\n",
    "if p>alpha:\n",
    "    print(\"Accept H0: There is no relation between two vairables.\")\n",
    "else:\n",
    "    print(\"Reject H0: There is a realtion between two variables\")\n"
   ]
  },
  {
   "cell_type": "code",
   "execution_count": 35,
   "metadata": {},
   "outputs": [
    {
     "data": {
      "text/plain": [
       "array([[ 451, 2894,  656],\n",
       "       [ 530, 5619, 1077],\n",
       "       [  29,   49,    9]])"
      ]
     },
     "execution_count": 35,
     "metadata": {},
     "output_type": "execute_result"
    }
   ],
   "source": [
    "ct_table_ind.values"
   ]
  },
  {
   "cell_type": "code",
   "execution_count": 44,
   "metadata": {},
   "outputs": [
    {
     "name": "stdout",
     "output_type": "stream",
     "text": [
      "0.0736584897989239\n"
     ]
    }
   ],
   "source": [
    "n = np.sum(ct_table_ind.values)  # Total number of observations\n",
    "min_dim = min(ct_table_ind.shape) - 1  # Number of categories minus 1\n",
    "\n",
    "cramer_v = np.sqrt(chi2_stat / (n * min_dim))\n",
    "print(cramer_v)"
   ]
  },
  {
   "cell_type": "code",
   "execution_count": 37,
   "metadata": {},
   "outputs": [
    {
     "data": {
      "image/png": "[encoded data removed]",
      "text/plain": [
       "<Figure size 600x600 with 2 Axes>"
      ]
     },
     "metadata": {},
     "output_type": "display_data"
    }
   ],
   "source": [
    "import seaborn as sns\n",
    "fig = plt.figure(figsize=(6,6))\n",
    "sns.heatmap(ct_table_ind, annot=True, cmap='Blues')\n",
    "plt.title('Chi-Square Test Results')\n",
    "plt.show()"
   ]
  },
  {
   "cell_type": "code",
   "execution_count": null,
   "metadata": {},
   "outputs": [],
   "source": []
  },
  {
   "cell_type": "code",
   "execution_count": null,
   "metadata": {},
   "outputs": [],
   "source": []
  },
  {
   "cell_type": "code",
   "execution_count": null,
   "metadata": {},
   "outputs": [],
   "source": []
  },
  {
   "cell_type": "code",
   "execution_count": null,
   "metadata": {},
   "outputs": [],
   "source": []
  },
  {
   "cell_type": "code",
   "execution_count": 38,
   "metadata": {},
   "outputs": [
    {
     "data": {
      "text/html": [
       "<div>\n",
       "<style scoped>\n",
       "    .dataframe tbody tr th:only-of-type {\n",
       "        vertical-align: middle;\n",
       "    }\n",
       "\n",
       "    .dataframe tbody tr th {\n",
       "        vertical-align: top;\n",
       "    }\n",
       "\n",
       "    .dataframe thead th {\n",
       "        text-align: right;\n",
       "    }\n",
       "</style>\n",
       "<table border=\"1\" class=\"dataframe\">\n",
       "  <thead>\n",
       "    <tr style=\"text-align: right;\">\n",
       "      <th></th>\n",
       "      <th>gender</th>\n",
       "      <th>status</th>\n",
       "    </tr>\n",
       "  </thead>\n",
       "  <tbody>\n",
       "    <tr>\n",
       "      <th>0</th>\n",
       "      <td>male</td>\n",
       "      <td>healthy</td>\n",
       "    </tr>\n",
       "    <tr>\n",
       "      <th>1</th>\n",
       "      <td>male</td>\n",
       "      <td>healthy</td>\n",
       "    </tr>\n",
       "    <tr>\n",
       "      <th>3</th>\n",
       "      <td>male</td>\n",
       "      <td>healthy</td>\n",
       "    </tr>\n",
       "    <tr>\n",
       "      <th>5</th>\n",
       "      <td>female</td>\n",
       "      <td>COVID-19</td>\n",
       "    </tr>\n",
       "    <tr>\n",
       "      <th>7</th>\n",
       "      <td>female</td>\n",
       "      <td>healthy</td>\n",
       "    </tr>\n",
       "    <tr>\n",
       "      <th>...</th>\n",
       "      <td>...</td>\n",
       "      <td>...</td>\n",
       "    </tr>\n",
       "    <tr>\n",
       "      <th>20065</th>\n",
       "      <td>male</td>\n",
       "      <td>healthy</td>\n",
       "    </tr>\n",
       "    <tr>\n",
       "      <th>20066</th>\n",
       "      <td>female</td>\n",
       "      <td>healthy</td>\n",
       "    </tr>\n",
       "    <tr>\n",
       "      <th>20067</th>\n",
       "      <td>male</td>\n",
       "      <td>healthy</td>\n",
       "    </tr>\n",
       "    <tr>\n",
       "      <th>20068</th>\n",
       "      <td>female</td>\n",
       "      <td>symptomatic</td>\n",
       "    </tr>\n",
       "    <tr>\n",
       "      <th>20070</th>\n",
       "      <td>male</td>\n",
       "      <td>healthy</td>\n",
       "    </tr>\n",
       "  </tbody>\n",
       "</table>\n",
       "<p>11314 rows × 2 columns</p>\n",
       "</div>"
      ],
      "text/plain": [
       "       gender       status\n",
       "0        male      healthy\n",
       "1        male      healthy\n",
       "3        male      healthy\n",
       "5      female     COVID-19\n",
       "7      female      healthy\n",
       "...       ...          ...\n",
       "20065    male      healthy\n",
       "20066  female      healthy\n",
       "20067    male      healthy\n",
       "20068  female  symptomatic\n",
       "20070    male      healthy\n",
       "\n",
       "[11314 rows x 2 columns]"
      ]
     },
     "execution_count": 38,
     "metadata": {},
     "output_type": "execute_result"
    }
   ],
   "source": [
    "gender_status_df"
   ]
  },
  {
   "cell_type": "code",
   "execution_count": 39,
   "metadata": {},
   "outputs": [],
   "source": [
    "# import sweetviz as sv\n",
    "# report = sv.analyze(gender_status_df)"
   ]
  },
  {
   "cell_type": "code",
   "execution_count": 40,
   "metadata": {},
   "outputs": [
    {
     "data": {
      "image/png": "[encoded data removed]",
      "text/plain": [
       "<Figure size 640x480 with 1 Axes>"
      ]
     },
     "metadata": {},
     "output_type": "display_data"
    }
   ],
   "source": [
    "import pandas as pd\n",
    "import matplotlib.pyplot as plt\n",
    "contingency_table = pd.crosstab(gender_status_df['gender'], gender_status_df['status'])\n",
    "contingency_table.plot(kind='bar', stacked=True)\n",
    "plt.title('Distribution of COVID-19 Status by Gender')\n",
    "plt.xlabel('Gender')\n",
    "plt.ylabel('Count')\n",
    "plt.legend(title='COVID-19 Status')\n",
    "plt.show()\n"
   ]
  },
  {
   "cell_type": "code",
   "execution_count": null,
   "metadata": {},
   "outputs": [],
   "source": [
    "# import dtale\n",
    "# dtale.show(df)"
   ]
  },
  {
   "cell_type": "code",
   "execution_count": null,
   "metadata": {},
   "outputs": [],
   "source": [
    "respiratory_status = pd.read_csv('all_clubed.csv')"
   ]
  },
  {
   "cell_type": "code",
   "execution_count": null,
   "metadata": {},
   "outputs": [],
   "source": []
  }
 ],
 "metadata": {
  "kernelspec": {
   "display_name": "Cough",
   "language": "python",
   "name": "python3"
  },
  "language_info": {
   "codemirror_mode": {
    "name": "ipython",
    "version": 3
   },
   "file_extension": ".py",
   "mimetype": "text/x-python",
   "name": "python",
   "nbconvert_exporter": "python",
   "pygments_lexer": "ipython3",
   "version": "3.11.5"
  },
  "orig_nbformat": 4
 },
 "nbformat": 4,
 "nbformat_minor": 2
}
