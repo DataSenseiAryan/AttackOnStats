{
 "cells": [
  {
   "cell_type": "code",
   "execution_count": 2,
   "metadata": {},
   "outputs": [],
   "source": [
    "import pandas as pd\n",
    "import numpy as np\n",
    "import datetime\n",
    "import librosa\n",
    "import matplotlib.pyplot as plt\n",
    "import seaborn as sns\n",
    "import os\n",
    "import pathlib\n",
    "import dask.dataframe as dd\n",
    "from dask.multiprocessing import get\n",
    "import numpy as np\n",
    "import librosa\n",
    "from scipy import signal\n",
    "from scipy.io import wavfile\n",
    "from scipy.signal import butter,filtfilt\n",
    "from scipy.stats import kurtosis\n",
    "import scipy.signal as signal\n",
    "from scipy.integrate import simps\n"
   ]
  },
  {
   "cell_type": "code",
   "execution_count": 3,
   "metadata": {},
   "outputs": [],
   "source": [
    "df = pd.read_csv('all_clubed.csv')"
   ]
  },
  {
   "cell_type": "code",
   "execution_count": null,
   "metadata": {},
   "outputs": [],
   "source": []
  },
  {
   "cell_type": "code",
   "execution_count": 4,
   "metadata": {},
   "outputs": [
    {
     "data": {
      "text/plain": [
       "Index(['Unnamed: 0', 'uuid', 'datetime', 'cough_detected', 'latitude',\n",
       "       'longitude', 'age', 'gender', 'respiratory_condition',\n",
       "       'fever_muscle_pain', 'status', 'quality_1', 'cough_type_1', 'dyspnea_1',\n",
       "       'wheezing_1', 'stridor_1', 'choking_1', 'congestion_1', 'nothing_1',\n",
       "       'diagnosis_1', 'severity_1', 'quality_2', 'cough_type_2', 'dyspnea_2',\n",
       "       'wheezing_2', 'stridor_2', 'choking_2', 'congestion_2', 'nothing_2',\n",
       "       'diagnosis_2', 'severity_2', 'quality_3', 'dyspnea_3', 'wheezing_3',\n",
       "       'stridor_3', 'choking_3', 'congestion_3', 'nothing_3', 'cough_type_3',\n",
       "       'diagnosis_3', 'severity_3', 'severity', 'cough_type', 'dyspnea',\n",
       "       'wheezing', 'stridor', 'quality', 'choking', 'congestion', 'nothing',\n",
       "       'diagnosis'],\n",
       "      dtype='object')"
      ]
     },
     "execution_count": 4,
     "metadata": {},
     "output_type": "execute_result"
    }
   ],
   "source": [
    "df.columns"
   ]
  },
  {
   "cell_type": "code",
   "execution_count": 5,
   "metadata": {},
   "outputs": [],
   "source": [
    "fmp_status_df= df.dropna(subset=[ 'fever_muscle_pain', 'status'], inplace=False)[['fever_muscle_pain', 'status']]"
   ]
  },
  {
   "cell_type": "code",
   "execution_count": 6,
   "metadata": {},
   "outputs": [],
   "source": [
    "temp_df = fmp_status_df.sample(n=500, random_state=69)"
   ]
  },
  {
   "cell_type": "code",
   "execution_count": 7,
   "metadata": {},
   "outputs": [
    {
     "data": {
      "text/plain": [
       "fever_muscle_pain  status     \n",
       "False              healthy        0.668\n",
       "                   symptomatic    0.138\n",
       "                   COVID-19       0.066\n",
       "True               healthy        0.054\n",
       "                   symptomatic    0.038\n",
       "                   COVID-19       0.036\n",
       "Name: proportion, dtype: float64"
      ]
     },
     "execution_count": 7,
     "metadata": {},
     "output_type": "execute_result"
    }
   ],
   "source": [
    "temp_df.value_counts(normalize=True)"
   ]
  },
  {
   "cell_type": "code",
   "execution_count": 6,
   "metadata": {},
   "outputs": [
    {
     "data": {
      "text/plain": [
       "fever_muscle_pain  status     \n",
       "False              healthy        0.690295\n",
       "                   symptomatic    0.113399\n",
       "True               healthy        0.066466\n",
       "False              COVID-19       0.064080\n",
       "True               symptomatic    0.040569\n",
       "                   COVID-19       0.025190\n",
       "Name: proportion, dtype: float64"
      ]
     },
     "execution_count": 6,
     "metadata": {},
     "output_type": "execute_result"
    }
   ],
   "source": [
    "fmp_status_df.value_counts(normalize=True)"
   ]
  },
  {
   "cell_type": "code",
   "execution_count": 7,
   "metadata": {},
   "outputs": [
    {
     "name": "stdout",
     "output_type": "stream",
     "text": [
      "Null Hypothesis (H0): There is no substantial relationship between the two variables.\n",
      "Alternative Hypothesis (H1): There is a substantial relationship between variables.\n"
     ]
    }
   ],
   "source": [
    "print(\"Null Hypothesis (H0): There is no substantial relationship between the two variables.\")  \n",
    "print(\"Alternative Hypothesis (H1): There is a substantial relationship between variables.\")\n"
   ]
  },
  {
   "cell_type": "code",
   "execution_count": 8,
   "metadata": {},
   "outputs": [
    {
     "name": "stdout",
     "output_type": "stream",
     "text": [
      "contingency_table :\n",
      " status             COVID-19  healthy  symptomatic\n",
      "fever_muscle_pain                                \n",
      "False                    33      334           69\n",
      "True                     18       27           19\n",
      "chi2 statistic:     38.369\n",
      "p-value:            4.6586e-09\n",
      "degrees of freedom: 2\n",
      "expected frequencies:\n",
      " [[ 44.472 314.792  76.736]\n",
      " [  6.528  46.208  11.264]]\n",
      "38.36909121864937\n",
      "Reject H0: There is a realtion between two variables\n"
     ]
    }
   ],
   "source": [
    "import pandas as pd\n",
    "import numpy as np\n",
    "import scipy.stats\n",
    "from scipy.stats import chi2\n",
    "\n",
    "data = temp_df\n",
    "data.shape\n",
    "ct_table_ind=pd.crosstab(data['fever_muscle_pain'],data[\"status\"])\n",
    "print('contingency_table :\\n',ct_table_ind)\n",
    "chi2_stat, p, dof, expected = scipy.stats.chi2_contingency(ct_table_ind)\n",
    "print(f\"chi2 statistic:     {chi2_stat:.5g}\")\n",
    "print(f\"p-value:            {p:.5g}\")\n",
    "print(f\"degrees of freedom: {dof}\")\n",
    "print(\"expected frequencies:\\n\",expected)\n",
    "\n",
    "alpha = 0.05\n",
    "print(chi2_stat)\n",
    "if p>alpha:\n",
    "    print(\"Accept H0: There is no relation between two vairables.\")\n",
    "else:\n",
    "    print(\"Reject H0: There is a realtion between two variables\")"
   ]
  },
  {
   "cell_type": "code",
   "execution_count": 9,
   "metadata": {},
   "outputs": [
    {
     "name": "stdout",
     "output_type": "stream",
     "text": [
      "contingency_table :\n",
      " status             COVID-19  healthy  symptomatic\n",
      "fever_muscle_pain                                \n",
      "False                   725     7810         1283\n",
      "True                    285      752          459\n",
      "chi2 statistic:     606.59\n",
      "p-value:            1.907e-132\n",
      "degrees of freedom: 2\n",
      "expected frequencies:\n",
      " [[ 876.45218314 7429.88474456 1511.6630723 ]\n",
      " [ 133.54781686 1132.11525544  230.3369277 ]]\n",
      "606.5914454881297\n",
      "Reject H0: There is a realtion between two variables\n"
     ]
    }
   ],
   "source": [
    "import pandas as pd\n",
    "import numpy as np\n",
    "import scipy.stats\n",
    "from scipy.stats import chi2\n",
    "\n",
    "data = fmp_status_df\n",
    "data.shape\n",
    "ct_table_ind=pd.crosstab(data['fever_muscle_pain'],data[\"status\"])\n",
    "print('contingency_table :\\n',ct_table_ind)\n",
    "chi2_stat, p, dof, expected = scipy.stats.chi2_contingency(ct_table_ind)\n",
    "print(f\"chi2 statistic:     {chi2_stat:.5g}\")\n",
    "print(f\"p-value:            {p:.5g}\")\n",
    "print(f\"degrees of freedom: {dof}\")\n",
    "print(\"expected frequencies:\\n\",expected)\n",
    "\n",
    "alpha = 0.05\n",
    "print(chi2_stat)\n",
    "if p>alpha:\n",
    "    print(\"Accept H0: There is no relation between two vairables.\")\n",
    "else:\n",
    "    print(\"Reject H0: There is a realtion between two variables\")\n"
   ]
  },
  {
   "cell_type": "code",
   "execution_count": 8,
   "metadata": {},
   "outputs": [
    {
     "data": {
      "text/plain": [
       "array([[ 670, 7325, 1175],\n",
       "       [ 340, 1237,  567]])"
      ]
     },
     "execution_count": 8,
     "metadata": {},
     "output_type": "execute_result"
    }
   ],
   "source": [
    "ct_table_ind.values"
   ]
  },
  {
   "cell_type": "code",
   "execution_count": 9,
   "metadata": {},
   "outputs": [
    {
     "name": "stdout",
     "output_type": "stream",
     "text": [
      "0.2315474771571572\n"
     ]
    }
   ],
   "source": [
    "n = np.sum(ct_table_ind.values)  # Total number of observations\n",
    "min_dim = min(ct_table_ind.shape) - 1  # Number of categories minus 1\n",
    "\n",
    "cramer_v = np.sqrt(chi2_stat / (n * min_dim))\n",
    "print(cramer_v)"
   ]
  },
  {
   "cell_type": "code",
   "execution_count": 10,
   "metadata": {},
   "outputs": [
    {
     "data": {
      "image/png": "[encoded data removed]",
      "text/plain": [
       "<Figure size 600x600 with 2 Axes>"
      ]
     },
     "metadata": {},
     "output_type": "display_data"
    }
   ],
   "source": [
    "import seaborn as sns\n",
    "fig = plt.figure(figsize=(6,6))\n",
    "sns.heatmap(ct_table_ind, annot=True, cmap='Blues')\n",
    "plt.title('Chi-Square Test Results')\n",
    "plt.show()"
   ]
  },
  {
   "cell_type": "code",
   "execution_count": null,
   "metadata": {},
   "outputs": [],
   "source": []
  },
  {
   "cell_type": "code",
   "execution_count": null,
   "metadata": {},
   "outputs": [],
   "source": []
  },
  {
   "cell_type": "code",
   "execution_count": null,
   "metadata": {},
   "outputs": [],
   "source": []
  },
  {
   "cell_type": "code",
   "execution_count": null,
   "metadata": {},
   "outputs": [],
   "source": []
  },
  {
   "cell_type": "code",
   "execution_count": null,
   "metadata": {},
   "outputs": [],
   "source": []
  },
  {
   "cell_type": "code",
   "execution_count": 10,
   "metadata": {},
   "outputs": [],
   "source": [
    "# import sweetviz as sv\n",
    "# report = sv.analyze(gender_status_df)"
   ]
  },
  {
   "cell_type": "code",
   "execution_count": 11,
   "metadata": {},
   "outputs": [
    {
     "data": {
      "image/png": "[encoded data removed]",
      "text/plain": [
       "<Figure size 640x480 with 1 Axes>"
      ]
     },
     "metadata": {},
     "output_type": "display_data"
    }
   ],
   "source": [
    "import pandas as pd\n",
    "import matplotlib.pyplot as plt\n",
    "contingency_table = pd.crosstab(fmp_status_df['fever_muscle_pain'], fmp_status_df['status'])\n",
    "contingency_table.plot(kind='bar', stacked=True)\n",
    "plt.title('Distribution of COVID-19 Status by Gender')\n",
    "plt.xlabel('Gender')\n",
    "plt.ylabel('Count')\n",
    "plt.legend(title='COVID-19 Status')\n",
    "plt.show()\n"
   ]
  },
  {
   "cell_type": "code",
   "execution_count": null,
   "metadata": {},
   "outputs": [],
   "source": []
  },
  {
   "cell_type": "code",
   "execution_count": null,
   "metadata": {},
   "outputs": [],
   "source": []
  },
  {
   "cell_type": "code",
   "execution_count": null,
   "metadata": {},
   "outputs": [],
   "source": []
  }
 ],
 "metadata": {
  "kernelspec": {
   "display_name": "Cough",
   "language": "python",
   "name": "python3"
  },
  "language_info": {
   "codemirror_mode": {
    "name": "ipython",
    "version": 3
   },
   "file_extension": ".py",
   "mimetype": "text/x-python",
   "name": "python",
   "nbconvert_exporter": "python",
   "pygments_lexer": "ipython3",
   "version": "3.11.5"
  },
  "orig_nbformat": 4
 },
 "nbformat": 4,
 "nbformat_minor": 2
}
